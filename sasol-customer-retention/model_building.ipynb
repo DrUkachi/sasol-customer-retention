{
 "cells": [
  {
   "cell_type": "code",
   "execution_count": null,
   "metadata": {},
   "outputs": [
    {
     "name": "stdout",
     "output_type": "stream",
     "text": [
      "Collecting lightgbm\n",
      "  Downloading lightgbm-4.1.0-py3-none-win_amd64.whl (1.3 MB)\n",
      "     ---------------------------------------- 1.3/1.3 MB 58.9 kB/s eta 0:00:00\n",
      "Requirement already satisfied: scipy in c:\\users\\ukashi\\anaconda3\\envs\\e-library\\lib\\site-packages (from lightgbm) (1.11.3)\n",
      "Requirement already satisfied: numpy in c:\\users\\ukashi\\anaconda3\\envs\\e-library\\lib\\site-packages (from lightgbm) (1.24.1)\n",
      "Installing collected packages: lightgbm\n",
      "Successfully installed lightgbm-4.1.0\n"
     ]
    }
   ],
   "source": [
    "!pip install lightgbm\n"
   ]
  },
  {
   "cell_type": "code",
   "execution_count": null,
   "metadata": {},
   "outputs": [],
   "source": [
    "import pandas as pd\n",
    "import numpy as np\n",
    "\n",
    "# EDA Libraries\n",
    "import plotly.express as px\n",
    "import matplotlib.pyplot as plt\n",
    "import seaborn as sns\n",
    "\n",
    "# Data Preprocessing libraries\n",
    "from imblearn.over_sampling import RandomOverSampler\n",
    "from sklearn.model_selection import train_test_split\n",
    "from sklearn.preprocessing import KBinsDiscretizer\n",
    "from sklearn.preprocessing import StandardScaler\n",
    "\n",
    "# from sklearn.impute import KNNImputer\n",
    "from sklearn.preprocessing import MinMaxScaler\n",
    "import category_encoders as ce\n",
    "from statsmodels.stats.outliers_influence import variance_inflation_factor\n",
    "\n",
    "# ML Libraries\n",
    "from sklearn.model_selection import train_test_split\n",
    "from sklearn.linear_model import LogisticRegression\n",
    "from sklearn.model_selection import cross_val_score\n",
    "from skopt import BayesSearchCV\n",
    "import lightgbm as lgb\n",
    "from sklearn.svm import SVC\n",
    "\n",
    "\n",
    "# Statistical Analysis\n",
    "from scipy.stats import chi2_contingency\n",
    "\n",
    "\n",
    "# Evaluation\n",
    "from sklearn.metrics import classification_report\n",
    "from sklearn.metrics import accuracy_score, precision_score, recall_score, f1_score\n",
    "from sklearn.metrics import confusion_matrix\n",
    "from sklearn.metrics import roc_curve, roc_auc_score\n",
    "from sklearn.calibration import calibration_curve\n",
    "\n",
    "\n",
    "\n"
   ]
  },
  {
   "cell_type": "code",
   "execution_count": 71,
   "metadata": {},
   "outputs": [
    {
     "name": "stdout",
     "output_type": "stream",
     "text": [
      "Collecting category_encoders\n",
      "  Downloading category_encoders-2.6.3-py2.py3-none-any.whl (81 kB)\n",
      "     -------------------------------------- 81.9/81.9 kB 352.8 kB/s eta 0:00:00\n",
      "Requirement already satisfied: scikit-learn>=0.20.0 in c:\\users\\ukashi\\anaconda3\\envs\\e-library\\lib\\site-packages (from category_encoders) (1.3.2)\n",
      "Collecting statsmodels>=0.9.0\n",
      "  Downloading statsmodels-0.14.0-cp310-cp310-win_amd64.whl (9.2 MB)\n",
      "     ---------------------------------------- 9.2/9.2 MB 7.6 MB/s eta 0:00:00\n",
      "Requirement already satisfied: scipy>=1.0.0 in c:\\users\\ukashi\\anaconda3\\envs\\e-library\\lib\\site-packages (from category_encoders) (1.11.3)\n",
      "Requirement already satisfied: pandas>=1.0.5 in c:\\users\\ukashi\\anaconda3\\envs\\e-library\\lib\\site-packages (from category_encoders) (1.5.2)\n",
      "Requirement already satisfied: numpy>=1.14.0 in c:\\users\\ukashi\\anaconda3\\envs\\e-library\\lib\\site-packages (from category_encoders) (1.24.1)\n",
      "Collecting patsy>=0.5.1\n",
      "  Downloading patsy-0.5.3-py2.py3-none-any.whl (233 kB)\n",
      "     ---------------------------------------- 233.8/233.8 kB ? eta 0:00:00\n",
      "Requirement already satisfied: python-dateutil>=2.8.1 in c:\\users\\ukashi\\anaconda3\\envs\\e-library\\lib\\site-packages (from pandas>=1.0.5->category_encoders) (2.8.2)\n",
      "Requirement already satisfied: pytz>=2020.1 in c:\\users\\ukashi\\anaconda3\\envs\\e-library\\lib\\site-packages (from pandas>=1.0.5->category_encoders) (2022.7)\n",
      "Requirement already satisfied: six in c:\\users\\ukashi\\anaconda3\\envs\\e-library\\lib\\site-packages (from patsy>=0.5.1->category_encoders) (1.16.0)\n",
      "Requirement already satisfied: joblib>=1.1.1 in c:\\users\\ukashi\\anaconda3\\envs\\e-library\\lib\\site-packages (from scikit-learn>=0.20.0->category_encoders) (1.3.2)\n",
      "Requirement already satisfied: threadpoolctl>=2.0.0 in c:\\users\\ukashi\\anaconda3\\envs\\e-library\\lib\\site-packages (from scikit-learn>=0.20.0->category_encoders) (3.2.0)\n",
      "Requirement already satisfied: packaging>=21.3 in c:\\users\\ukashi\\anaconda3\\envs\\e-library\\lib\\site-packages (from statsmodels>=0.9.0->category_encoders) (22.0)\n",
      "Installing collected packages: patsy, statsmodels, category_encoders\n",
      "Successfully installed category_encoders-2.6.3 patsy-0.5.3 statsmodels-0.14.0\n"
     ]
    }
   ],
   "source": [
    "!pip install category_encoders\n"
   ]
  },
  {
   "cell_type": "code",
   "execution_count": 4,
   "metadata": {},
   "outputs": [
    {
     "name": "stdout",
     "output_type": "stream",
     "text": [
      "Collecting imbalanced-learn\n",
      "  Downloading imbalanced_learn-0.11.0-py3-none-any.whl (235 kB)\n",
      "     ------------------------------------ 235.6/235.6 kB 379.5 kB/s eta 0:00:00\n",
      "Requirement already satisfied: joblib>=1.1.1 in c:\\users\\ukashi\\anaconda3\\envs\\e-library\\lib\\site-packages (from imbalanced-learn) (1.3.2)\n",
      "Requirement already satisfied: scipy>=1.5.0 in c:\\users\\ukashi\\anaconda3\\envs\\e-library\\lib\\site-packages (from imbalanced-learn) (1.11.3)\n",
      "Requirement already satisfied: scikit-learn>=1.0.2 in c:\\users\\ukashi\\anaconda3\\envs\\e-library\\lib\\site-packages (from imbalanced-learn) (1.3.2)\n",
      "Requirement already satisfied: numpy>=1.17.3 in c:\\users\\ukashi\\anaconda3\\envs\\e-library\\lib\\site-packages (from imbalanced-learn) (1.24.1)\n",
      "Requirement already satisfied: threadpoolctl>=2.0.0 in c:\\users\\ukashi\\anaconda3\\envs\\e-library\\lib\\site-packages (from imbalanced-learn) (3.2.0)\n",
      "Installing collected packages: imbalanced-learn\n",
      "Successfully installed imbalanced-learn-0.11.0\n"
     ]
    }
   ],
   "source": [
    "!pip install imbalanced-learn"
   ]
  },
  {
   "cell_type": "markdown",
   "metadata": {},
   "source": [
    "### Things to do\n",
    "- Balance out the data\n",
    "- Bin anything that speaks to frequency\n",
    "- Remove redundant features\n",
    "- Treat missing values after you group them by region\n",
    "- The best way to remove and balance out outliers especially on anything that speaks to revenue\n",
    "- The goal is create a model that is able to generalise as much as possible\n",
    "- What other features can be used to make the model as generalised as much as possible. (Engineer features related to the business problem eg. Regularity - Frequency / amount) etc\n",
    "- Hyper paremeter tuning with Bayesian Optimisation\n",
    "- Stick with Logistic regression until you can't go any further with your results.\n",
    "- Put on the hat of a scientist\n",
    "- Do some Feature Engineering"
   ]
  },
  {
   "cell_type": "markdown",
   "metadata": {},
   "source": []
  },
  {
   "cell_type": "code",
   "execution_count": 2,
   "metadata": {},
   "outputs": [],
   "source": [
    "train_data = pd.read_csv('Train.csv')\n",
    "test_data = pd.read_csv('Test.csv')"
   ]
  },
  {
   "cell_type": "code",
   "execution_count": 3,
   "metadata": {},
   "outputs": [],
   "source": [
    "X = train_data.drop('Target', axis=1)\n",
    "y = train_data['Target']\n",
    "\n",
    "# Split the data into training and testing sets\n",
    "X_train, X_test, y_train, y_test = train_test_split(X, y, test_size=0.2, random_state=42)\n"
   ]
  },
  {
   "cell_type": "code",
   "execution_count": 4,
   "metadata": {},
   "outputs": [],
   "source": [
    "# Initialize RandomOverSampler\n",
    "oversampler = RandomOverSampler(random_state=42)\n",
    "\n",
    "# Fit and transform the data (oversample the minority class)\n",
    "X_train_resampled, y_train_resampled = oversampler.fit_resample(X_train, y_train)\n",
    "\n",
    "# Convert the resampled data back to a DataFrame\n",
    "df_resampled = pd.DataFrame(X_train_resampled, columns=X.columns)\n",
    "df_resampled['Target'] = y_train_resampled\n"
   ]
  },
  {
   "cell_type": "code",
   "execution_count": 5,
   "metadata": {},
   "outputs": [
    {
     "data": {
      "text/plain": [
       "0    980020\n",
       "1    980020\n",
       "Name: Target, dtype: int64"
      ]
     },
     "execution_count": 5,
     "metadata": {},
     "output_type": "execute_result"
    }
   ],
   "source": [
    "df_resampled['Target'].value_counts()"
   ]
  },
  {
   "cell_type": "code",
   "execution_count": 6,
   "metadata": {},
   "outputs": [
    {
     "name": "stdout",
     "output_type": "stream",
     "text": [
      "<class 'pandas.core.frame.DataFrame'>\n",
      "RangeIndex: 1960040 entries, 0 to 1960039\n",
      "Data columns (total 19 columns):\n",
      " #   Column            Dtype  \n",
      "---  ------            -----  \n",
      " 0   ID                object \n",
      " 1   region            object \n",
      " 2   tenure            object \n",
      " 3   Amount            float64\n",
      " 4   refill_frequency  float64\n",
      " 5   revenue           float64\n",
      " 6   arpu_segment      float64\n",
      " 7   frequency         float64\n",
      " 8   data_volume       float64\n",
      " 9   on_net            float64\n",
      " 10  Procuct_1         float64\n",
      " 11  Procuct_2         float64\n",
      " 12  zone1             float64\n",
      " 13  zone2             float64\n",
      " 14  mrg               object \n",
      " 15  regularity        int64  \n",
      " 16  top_pack          object \n",
      " 17  freq_top_pack     float64\n",
      " 18  Target            int64  \n",
      "dtypes: float64(12), int64(2), object(5)\n",
      "memory usage: 284.1+ MB\n"
     ]
    }
   ],
   "source": [
    "df_resampled.info()"
   ]
  },
  {
   "cell_type": "code",
   "execution_count": 7,
   "metadata": {},
   "outputs": [
    {
     "data": {
      "text/plain": [
       "count    913203.000000\n",
       "mean         10.485625\n",
       "std          12.764966\n",
       "min           1.000000\n",
       "25%           2.000000\n",
       "50%           5.000000\n",
       "75%          14.000000\n",
       "max         133.000000\n",
       "Name: refill_frequency, dtype: float64"
      ]
     },
     "execution_count": 7,
     "metadata": {},
     "output_type": "execute_result"
    }
   ],
   "source": [
    "df_resampled['refill_frequency'].describe()"
   ]
  },
  {
   "cell_type": "code",
   "execution_count": 8,
   "metadata": {},
   "outputs": [
    {
     "data": {
      "text/plain": [
       "count    170076.000000\n",
       "mean          4.346439\n",
       "std           6.462793\n",
       "min           1.000000\n",
       "25%           1.000000\n",
       "50%           2.000000\n",
       "75%           5.000000\n",
       "max          85.000000\n",
       "Name: refill_frequency, dtype: float64"
      ]
     },
     "execution_count": 8,
     "metadata": {},
     "output_type": "execute_result"
    }
   ],
   "source": [
    "churn = df_resampled[df_resampled['Target']==1]\n",
    "churn['refill_frequency'].describe()"
   ]
  },
  {
   "cell_type": "code",
   "execution_count": null,
   "metadata": {},
   "outputs": [],
   "source": [
    "non_churn = df_resampled[df_resampled['Target']==0]\n",
    "non_churn['refill_frequency'].describe()"
   ]
  },
  {
   "cell_type": "code",
   "execution_count": null,
   "metadata": {},
   "outputs": [],
   "source": [
    "churn['refill_frequency'].hist()"
   ]
  },
  {
   "cell_type": "code",
   "execution_count": null,
   "metadata": {},
   "outputs": [],
   "source": [
    "non_churn['refill_frequency'].hist()"
   ]
  },
  {
   "cell_type": "code",
   "execution_count": null,
   "metadata": {},
   "outputs": [],
   "source": [
    "churn['regularity'].kde()"
   ]
  },
  {
   "cell_type": "code",
   "execution_count": null,
   "metadata": {},
   "outputs": [],
   "source": [
    "sns.kdeplot(data, shade=True)"
   ]
  },
  {
   "cell_type": "code",
   "execution_count": null,
   "metadata": {},
   "outputs": [],
   "source": [
    "non_churn['regularity'].hist()"
   ]
  },
  {
   "cell_type": "code",
   "execution_count": null,
   "metadata": {},
   "outputs": [],
   "source": [
    "churn['frequency'].hist()"
   ]
  },
  {
   "cell_type": "code",
   "execution_count": null,
   "metadata": {},
   "outputs": [],
   "source": [
    "non_churn['frequency'].hist()"
   ]
  },
  {
   "cell_type": "code",
   "execution_count": 25,
   "metadata": {},
   "outputs": [
    {
     "name": "stderr",
     "output_type": "stream",
     "text": [
      "c:\\Users\\UKASHI\\anaconda3\\envs\\e-library\\lib\\site-packages\\sklearn\\preprocessing\\_discretization.py:248: FutureWarning: In version 1.5 onwards, subsample=200_000 will be used by default. Set subsample explicitly to silence this warning in the mean time. Set subsample=None to disable subsampling explicitly.\n",
      "  warnings.warn(\n"
     ]
    }
   ],
   "source": [
    "\n",
    "\n",
    "# Sample data (replace this with your own DataFrame)\n",
    "data = {'NumericFeature': [10, 20, 30, 40, 50, 60, 70, 80, 90]}\n",
    "df = pd.DataFrame(data)\n",
    "\n",
    "# Initialize KBinsDiscretizer\n",
    "discretizer = KBinsDiscretizer(n_bins=3, encode='ordinal', strategy='kmeans')\n",
    "\n",
    "# Fit and transform the data\n",
    "df['BinnedFeature'] = discretizer.fit_transform(df[['NumericFeature']])"
   ]
  },
  {
   "cell_type": "code",
   "execution_count": 28,
   "metadata": {},
   "outputs": [
    {
     "name": "stderr",
     "output_type": "stream",
     "text": [
      "C:\\Users\\UKASHI\\AppData\\Local\\Temp\\ipykernel_3908\\2148668414.py:2: FutureWarning: \n",
      "\n",
      "`shade` is now deprecated in favor of `fill`; setting `fill=True`.\n",
      "This will become an error in seaborn v0.14.0; please update your code.\n",
      "\n",
      "  sns.kdeplot(non_churn['frequency'], shade=True)\n"
     ]
    },
    {
     "data": {
      "image/png": "[encoded data removed]",
      "text/plain": [
       "<Figure size 640x480 with 1 Axes>"
      ]
     },
     "metadata": {},
     "output_type": "display_data"
    }
   ],
   "source": [
    "# Create a kernel density plot\n",
    "sns.kdeplot(df, shade=True)\n",
    "\n",
    "# Add labels and title\n",
    "plt.xlabel('Numeric Feature')\n",
    "plt.ylabel('Density')\n",
    "plt.title('Kernel Density Plot')\n",
    "\n",
    "# Show the plot\n",
    "plt.show()"
   ]
  },
  {
   "cell_type": "code",
   "execution_count": null,
   "metadata": {},
   "outputs": [],
   "source": [
    "# Create a kernel density plot with hue\n",
    "sns.kdeplot(data=df_resampled, x='regularity', hue='Target', common_norm=False, fill=True)\n"
   ]
  },
  {
   "cell_type": "code",
   "execution_count": 7,
   "metadata": {},
   "outputs": [
    {
     "data": {
      "text/plain": [
       "ID                        0\n",
       "region              1185866\n",
       "tenure                    0\n",
       "Amount              1046837\n",
       "refill_frequency    1046837\n",
       "revenue             1016833\n",
       "arpu_segment        1016833\n",
       "frequency           1016833\n",
       "data_volume         1198939\n",
       "on_net              1062191\n",
       "Procuct_1           1160959\n",
       "Procuct_2           1426946\n",
       "zone1               1850463\n",
       "zone2               1870321\n",
       "mrg                       0\n",
       "regularity                0\n",
       "top_pack            1165905\n",
       "freq_top_pack       1165905\n",
       "Target                    0\n",
       "dtype: int64"
      ]
     },
     "execution_count": 7,
     "metadata": {},
     "output_type": "execute_result"
    }
   ],
   "source": [
    "df_resampled.isnull().sum()"
   ]
  },
  {
   "cell_type": "code",
   "execution_count": null,
   "metadata": {},
   "outputs": [],
   "source": [
    "# refill_frequency\n",
    "# Create a kernel density plot with hue\n",
    "sns.kdeplot(data=df_resampled, x='refill_frequency', hue='Target', common_norm=False, fill=True)"
   ]
  },
  {
   "cell_type": "code",
   "execution_count": null,
   "metadata": {},
   "outputs": [],
   "source": [
    "# frequency\n",
    "# Create a kernel density plot with hue\n",
    "sns.kdeplot(data=df_resampled, x='frequency', hue='Target', common_norm=False, fill=True)"
   ]
  },
  {
   "cell_type": "code",
   "execution_count": null,
   "metadata": {},
   "outputs": [],
   "source": [
    "# Amount\n",
    "# Create a kernel density plot with hue\n",
    "sns.kdeplot(data=df_resampled, x='freq_top_pack', hue='Target', common_norm=False, fill=True)"
   ]
  },
  {
   "cell_type": "code",
   "execution_count": null,
   "metadata": {},
   "outputs": [],
   "source": [
    "df_resampled['refill_frequency'].describe()"
   ]
  },
  {
   "cell_type": "code",
   "execution_count": null,
   "metadata": {},
   "outputs": [],
   "source": [
    "churn['refill_frequency'].describe()"
   ]
  },
  {
   "cell_type": "code",
   "execution_count": 124,
   "metadata": {},
   "outputs": [
    {
     "data": {
      "text/plain": [
       "count    743127.000000\n",
       "mean         11.890671\n",
       "std          13.419299\n",
       "min           1.000000\n",
       "25%           3.000000\n",
       "50%           7.000000\n",
       "75%          16.000000\n",
       "max         133.000000\n",
       "Name: refill_frequency, dtype: float64"
      ]
     },
     "execution_count": 124,
     "metadata": {},
     "output_type": "execute_result"
    }
   ],
   "source": [
    "non_churn['refill_frequency'].describe()"
   ]
  },
  {
   "cell_type": "code",
   "execution_count": 39,
   "metadata": {},
   "outputs": [
    {
     "name": "stderr",
     "output_type": "stream",
     "text": [
      "c:\\Users\\UKASHI\\anaconda3\\envs\\e-library\\lib\\site-packages\\sklearn\\preprocessing\\_discretization.py:248: FutureWarning: In version 1.5 onwards, subsample=200_000 will be used by default. Set subsample explicitly to silence this warning in the mean time. Set subsample=None to disable subsampling explicitly.\n",
      "  warnings.warn(\n"
     ]
    }
   ],
   "source": [
    "### Let us bin these guys using the KBinsDiscretizer\n",
    "\n",
    "# Initialize KBinsDiscretizer\n",
    "discretizer = KBinsDiscretizer(n_bins=3, encode='ordinal', strategy='kmeans')\n",
    "\n",
    "# Fit and transform the data\n",
    "df_resampled['regularity_group'] = discretizer.fit_transform(df_resampled[['regularity']])"
   ]
  },
  {
   "cell_type": "code",
   "execution_count": 41,
   "metadata": {},
   "outputs": [
    {
     "data": {
      "text/plain": [
       "0.0    1197119\n",
       "2.0     408793\n",
       "1.0     354128\n",
       "Name: regularity_group, dtype: int64"
      ]
     },
     "execution_count": 41,
     "metadata": {},
     "output_type": "execute_result"
    }
   ],
   "source": [
    "df_resampled['regularity_group'].value_counts()"
   ]
  },
  {
   "cell_type": "code",
   "execution_count": 47,
   "metadata": {},
   "outputs": [
    {
     "data": {
      "text/html": [
       "<div>\n",
       "<style scoped>\n",
       "    .dataframe tbody tr th:only-of-type {\n",
       "        vertical-align: middle;\n",
       "    }\n",
       "\n",
       "    .dataframe tbody tr th {\n",
       "        vertical-align: top;\n",
       "    }\n",
       "\n",
       "    .dataframe thead th {\n",
       "        text-align: right;\n",
       "    }\n",
       "</style>\n",
       "<table border=\"1\" class=\"dataframe\">\n",
       "  <thead>\n",
       "    <tr style=\"text-align: right;\">\n",
       "      <th></th>\n",
       "      <th>regularity</th>\n",
       "    </tr>\n",
       "  </thead>\n",
       "  <tbody>\n",
       "    <tr>\n",
       "      <th>count</th>\n",
       "      <td>408793.000000</td>\n",
       "    </tr>\n",
       "    <tr>\n",
       "      <th>mean</th>\n",
       "      <td>55.557074</td>\n",
       "    </tr>\n",
       "    <tr>\n",
       "      <th>std</th>\n",
       "      <td>6.096749</td>\n",
       "    </tr>\n",
       "    <tr>\n",
       "      <th>min</th>\n",
       "      <td>43.000000</td>\n",
       "    </tr>\n",
       "    <tr>\n",
       "      <th>25%</th>\n",
       "      <td>51.000000</td>\n",
       "    </tr>\n",
       "    <tr>\n",
       "      <th>50%</th>\n",
       "      <td>57.000000</td>\n",
       "    </tr>\n",
       "    <tr>\n",
       "      <th>75%</th>\n",
       "      <td>61.000000</td>\n",
       "    </tr>\n",
       "    <tr>\n",
       "      <th>max</th>\n",
       "      <td>62.000000</td>\n",
       "    </tr>\n",
       "  </tbody>\n",
       "</table>\n",
       "</div>"
      ],
      "text/plain": [
       "          regularity\n",
       "count  408793.000000\n",
       "mean       55.557074\n",
       "std         6.096749\n",
       "min        43.000000\n",
       "25%        51.000000\n",
       "50%        57.000000\n",
       "75%        61.000000\n",
       "max        62.000000"
      ]
     },
     "execution_count": 47,
     "metadata": {},
     "output_type": "execute_result"
    }
   ],
   "source": [
    "df_resampled[df_resampled['regularity_group']==2][['regularity']].describe()"
   ]
  },
  {
   "cell_type": "code",
   "execution_count": null,
   "metadata": {},
   "outputs": [],
   "source": [
    "# Initialize KBinsDiscretizer\n",
    "discretizer = KBinsDiscretizer(n_bins=3, encode='ordinal', strategy='kmeans')\n",
    "\n",
    "# Fit and transform the data\n",
    "df_resampled['refill_freq_group'] = discretizer.fit_transform(df_resampled[['refill_frequency']])"
   ]
  },
  {
   "cell_type": "code",
   "execution_count": 8,
   "metadata": {},
   "outputs": [],
   "source": [
    "missing_values = dict(df_resampled.isnull().sum())"
   ]
  },
  {
   "cell_type": "code",
   "execution_count": 10,
   "metadata": {},
   "outputs": [
    {
     "data": {
      "text/plain": [
       "K > 24 month     1843056\n",
       "I 18-21 month      47816\n",
       "H 15-18 month      27819\n",
       "G 12-15 month      17087\n",
       "J 21-24 month      12614\n",
       "F 9-12 month        9424\n",
       "E 6-9 month         1562\n",
       "D 3-6 month          662\n",
       "Name: tenure, dtype: int64"
      ]
     },
     "execution_count": 10,
     "metadata": {},
     "output_type": "execute_result"
    }
   ],
   "source": [
    "df_resampled['tenure'].value_counts()"
   ]
  },
  {
   "cell_type": "markdown",
   "metadata": {},
   "source": [
    "## Fill in Missing values \n",
    "We assume that those in the same tenure behave similarly - check this assumption (Let's test this)"
   ]
  },
  {
   "cell_type": "markdown",
   "metadata": {},
   "source": [
    "### T-Test or ANOVA"
   ]
  },
  {
   "cell_type": "code",
   "execution_count": 57,
   "metadata": {},
   "outputs": [
    {
     "name": "stdout",
     "output_type": "stream",
     "text": [
      "T-Statistic: 40.543152229528694\n",
      "P-Value: 0.0\n"
     ]
    }
   ],
   "source": [
    "from scipy.stats import ttest_ind, f_oneway\n",
    "\n",
    "# Example t-test for two regions\n",
    "region_A = df_resampled[df_resampled['tenure'] == 'K > 24 month']['regularity']\n",
    "region_B = df_resampled[df_resampled['tenure'] == 'I 18-21 month']['regularity']\n",
    "\n",
    "t_stat, p_value = ttest_ind(region_A, region_B)\n",
    "\n",
    "# Print the results\n",
    "print(f\"T-Statistic: {t_stat}\")\n",
    "print(f\"P-Value: {p_value}\")\n"
   ]
  },
  {
   "cell_type": "code",
   "execution_count": 63,
   "metadata": {},
   "outputs": [
    {
     "data": {
      "text/plain": [
       "count    868654.000000\n",
       "mean       2168.387224\n",
       "std        2924.480725\n",
       "min           4.270000\n",
       "25%         427.350000\n",
       "50%        1111.110000\n",
       "75%        2820.510000\n",
       "max      124145.300000\n",
       "Name: Amount, dtype: float64"
      ]
     },
     "execution_count": 63,
     "metadata": {},
     "output_type": "execute_result"
    }
   ],
   "source": [
    "\n",
    "df_resampled[df_resampled['tenure'] == 'K > 24 month']['Amount'].describe()"
   ]
  },
  {
   "cell_type": "code",
   "execution_count": null,
   "metadata": {},
   "outputs": [],
   "source": [
    "# Example box plot\n",
    "# sns.boxplot(x='tenure', y='revenue', data=df_resampled)\n",
    "# plt.show()\n",
    "\n",
    "# Create a box plot using Seaborn\n",
    "sns.set(style=\"whitegrid\")  # Set the style of the plot\n",
    "plt.figure(figsize=(20, 12))  # Set the size of the plot\n",
    "\n",
    "# Assuming df is your DataFrame with categorical and target variables\n",
    "sns.boxplot(x='tenure', y='revenue', data=df_resampled)\n",
    "plt.title('Box Plot of Revenue againt Tenure')\n",
    "plt.xticks(rotation=90)  # Adjust the rotation angle as needed\n",
    "plt.show()"
   ]
  },
  {
   "cell_type": "markdown",
   "metadata": {},
   "source": [
    "We will use the median values by the Tenure to fill in the missing values:"
   ]
  },
  {
   "cell_type": "code",
   "execution_count": 6,
   "metadata": {},
   "outputs": [],
   "source": [
    "non_categorical_columns = ['Amount', 'refill_frequency', 'revenue', 'arpu_segment', 'frequency',\n",
    "       'data_volume', 'on_net', 'Procuct_1', 'Procuct_2', 'zone1', 'zone2',\n",
    "       'regularity', 'freq_top_pack', 'Target']"
   ]
  },
  {
   "cell_type": "code",
   "execution_count": 9,
   "metadata": {},
   "outputs": [],
   "source": [
    "for key, value in missing_values.items():\n",
    "    if value > 0 and key in non_categorical_columns:   # Feature has a missing value and is non categorical (numerical)\n",
    "        # Group by tenure and compute the median\n",
    "        tenure_median = df_resampled.groupby('tenure')[key].transform('mean')  # Use the median next time - you actually used mean.\n",
    "        # Fill missing values with their corresponding tenure mean\n",
    "        df_resampled[key] = df_resampled[key].fillna(tenure_median)\n",
    "        \n",
    "        \n"
   ]
  },
  {
   "cell_type": "code",
   "execution_count": 10,
   "metadata": {},
   "outputs": [],
   "source": [
    "for key, value in missing_values.items():\n",
    "    if value > 0 and key in non_categorical_columns:   # Feature has a missing value and is non categorical (numerical)\n",
    "        # Group by tenure and compute the median\n",
    "        tenure_median = test_data.groupby('tenure')[key].transform('mean')  # Use the median next time - you actually used mean.\n",
    "        # Fill missing values with their corresponding tenure mean\n",
    "        test_data[key] = test_data[key].fillna(tenure_median)"
   ]
  },
  {
   "cell_type": "code",
   "execution_count": 11,
   "metadata": {},
   "outputs": [
    {
     "data": {
      "text/plain": [
       "ID                       0\n",
       "region              149728\n",
       "tenure                   0\n",
       "Amount                   0\n",
       "refill_frequency         0\n",
       "revenue                  0\n",
       "arpu_segment             0\n",
       "frequency                0\n",
       "data_volume              0\n",
       "on_net                   0\n",
       "Procuct_1                0\n",
       "Procuct_2                0\n",
       "zone1                    0\n",
       "zone2                    0\n",
       "mrg                      0\n",
       "regularity               0\n",
       "top_pack            158779\n",
       "freq_top_pack            0\n",
       "dtype: int64"
      ]
     },
     "execution_count": 11,
     "metadata": {},
     "output_type": "execute_result"
    }
   ],
   "source": [
    "test_data.isnull().sum()"
   ]
  },
  {
   "cell_type": "code",
   "execution_count": null,
   "metadata": {},
   "outputs": [],
   "source": [
    "tenure_median"
   ]
  },
  {
   "cell_type": "code",
   "execution_count": 12,
   "metadata": {},
   "outputs": [],
   "source": [
    "categorical = ['region', 'top_pack']\n",
    "for cat in categorical:\n",
    "    # Group by 'Region' and fill missing categorical values with mode\n",
    "    df_resampled[cat] = df_resampled.groupby('tenure')[cat].transform(lambda x: x.fillna(x.mode().iloc[0]))\n",
    "    test_data[cat] = test_data.groupby('tenure')[cat].transform(lambda x: x.fillna(x.mode().iloc[0]))"
   ]
  },
  {
   "cell_type": "code",
   "execution_count": 13,
   "metadata": {},
   "outputs": [
    {
     "data": {
      "text/plain": [
       "ID                  0\n",
       "region              0\n",
       "tenure              0\n",
       "Amount              0\n",
       "refill_frequency    0\n",
       "revenue             0\n",
       "arpu_segment        0\n",
       "frequency           0\n",
       "data_volume         0\n",
       "on_net              0\n",
       "Procuct_1           0\n",
       "Procuct_2           0\n",
       "zone1               0\n",
       "zone2               0\n",
       "mrg                 0\n",
       "regularity          0\n",
       "top_pack            0\n",
       "freq_top_pack       0\n",
       "Target              0\n",
       "dtype: int64"
      ]
     },
     "execution_count": 13,
     "metadata": {},
     "output_type": "execute_result"
    }
   ],
   "source": [
    "df_resampled.isnull().sum()"
   ]
  },
  {
   "cell_type": "code",
   "execution_count": 17,
   "metadata": {},
   "outputs": [
    {
     "data": {
      "text/plain": [
       "ID                  0\n",
       "region              0\n",
       "tenure              0\n",
       "Amount              0\n",
       "refill_frequency    0\n",
       "revenue             0\n",
       "arpu_segment        0\n",
       "frequency           0\n",
       "data_volume         0\n",
       "on_net              0\n",
       "Procuct_1           0\n",
       "Procuct_2           0\n",
       "zone1               0\n",
       "zone2               0\n",
       "mrg                 0\n",
       "regularity          0\n",
       "top_pack            0\n",
       "freq_top_pack       0\n",
       "dtype: int64"
      ]
     },
     "execution_count": 17,
     "metadata": {},
     "output_type": "execute_result"
    }
   ],
   "source": [
    "test_data.isnull().sum()"
   ]
  },
  {
   "cell_type": "code",
   "execution_count": 44,
   "metadata": {},
   "outputs": [
    {
     "name": "stderr",
     "output_type": "stream",
     "text": [
      "C:\\Users\\UKASHI\\AppData\\Local\\Temp\\ipykernel_18760\\1229569621.py:2: FutureWarning: The default value of numeric_only in DataFrame.corr is deprecated. In a future version, it will default to False. Select only valid columns or specify the value of numeric_only to silence this warning.\n",
      "  correlation_matrix = df_resampled.corr()\n"
     ]
    },
    {
     "data": {
      "image/png": "[encoded data removed]",
      "text/plain": [
       "<Figure size 1000x800 with 2 Axes>"
      ]
     },
     "metadata": {},
     "output_type": "display_data"
    }
   ],
   "source": [
    "# Create a correlation matrix\n",
    "correlation_matrix = df_resampled.corr()\n",
    "\n",
    "# Set up the matplotlib figure\n",
    "plt.figure(figsize=(10, 8))\n",
    "\n",
    "# Create a heatmap using Seaborn\n",
    "sns.heatmap(correlation_matrix, annot=True, cmap='coolwarm', fmt=\".2f\", linewidths=.5)\n",
    "\n",
    "# Show the plot\n",
    "plt.show()"
   ]
  },
  {
   "cell_type": "markdown",
   "metadata": {},
   "source": [
    "## Removing outliers in the dataset"
   ]
  },
  {
   "cell_type": "markdown",
   "metadata": {},
   "source": []
  },
  {
   "cell_type": "code",
   "execution_count": null,
   "metadata": {},
   "outputs": [],
   "source": [
    "## Baseline 2\n",
    "\n",
    "# Identify and remove categorical columns\n",
    "non_categorical_columns = df_resampled.select_dtypes(exclude=['object']).columns\n",
    "train_df = df_resampled[non_categorical_columns]"
   ]
  },
  {
   "cell_type": "markdown",
   "metadata": {},
   "source": [
    "## Dealing with Categorical Data"
   ]
  },
  {
   "cell_type": "code",
   "execution_count": 150,
   "metadata": {},
   "outputs": [
    {
     "name": "stdout",
     "output_type": "stream",
     "text": [
      "<class 'pandas.core.frame.DataFrame'>\n",
      "RangeIndex: 1960040 entries, 0 to 1960039\n",
      "Data columns (total 18 columns):\n",
      " #   Column            Dtype  \n",
      "---  ------            -----  \n",
      " 0   ID                object \n",
      " 1   region            object \n",
      " 2   tenure            object \n",
      " 3   Amount            float64\n",
      " 4   refill_frequency  float64\n",
      " 5   revenue           float64\n",
      " 6   arpu_segment      float64\n",
      " 7   frequency         float64\n",
      " 8   data_volume       float64\n",
      " 9   on_net            float64\n",
      " 10  Procuct_1         float64\n",
      " 11  Procuct_2         float64\n",
      " 12  zone1             float64\n",
      " 13  zone2             float64\n",
      " 14  regularity        int64  \n",
      " 15  top_pack          object \n",
      " 16  freq_top_pack     float64\n",
      " 17  Target            int64  \n",
      "dtypes: float64(12), int64(2), object(4)\n",
      "memory usage: 269.2+ MB\n"
     ]
    }
   ],
   "source": [
    "df_resampled.info()"
   ]
  },
  {
   "cell_type": "code",
   "execution_count": 29,
   "metadata": {},
   "outputs": [
    {
     "name": "stdout",
     "output_type": "stream",
     "text": [
      "Chi-square value: 0.0\n",
      "P-value: 1.0\n",
      "There is no significant association between mrg and Target.\n"
     ]
    }
   ],
   "source": [
    "# Create a contingency table\n",
    "category_a = 'mrg'\n",
    "category_b = 'Target'\n",
    "category_c = 'Target'\n",
    "\n",
    "contingency_table = pd.crosstab(df_resampled[category_a], df_resampled[category_a])\n",
    "\n",
    "# Perform the Chi-square test\n",
    "chi2, p, _, _ = chi2_contingency(contingency_table)\n",
    "\n",
    "# Output the results\n",
    "print(f\"Chi-square value: {chi2}\")\n",
    "print(f\"P-value: {p}\")\n",
    "\n",
    "# Check for significance (e.g., using a significance level of 0.05)\n",
    "if p < 0.05:\n",
    "    print(f\"There is a significant association between {category_a} and {category_b}\")\n",
    "else:\n",
    "    print(f\"There is no significant association between {category_a} and {category_b}.\")\n"
   ]
  },
  {
   "cell_type": "markdown",
   "metadata": {},
   "source": [
    "Based on the analysis above the mrg column will be removed from the training data"
   ]
  },
  {
   "cell_type": "code",
   "execution_count": 30,
   "metadata": {},
   "outputs": [],
   "source": [
    "df_resampled.drop('mrg', axis=1, inplace=True)"
   ]
  },
  {
   "cell_type": "code",
   "execution_count": 43,
   "metadata": {},
   "outputs": [
    {
     "data": {
      "text/plain": [
       "ID                  0\n",
       "region              0\n",
       "tenure              0\n",
       "Amount              0\n",
       "refill_frequency    0\n",
       "revenue             0\n",
       "arpu_segment        0\n",
       "frequency           0\n",
       "data_volume         0\n",
       "on_net              0\n",
       "Procuct_1           0\n",
       "Procuct_2           0\n",
       "zone1               0\n",
       "zone2               0\n",
       "regularity          0\n",
       "top_pack            0\n",
       "freq_top_pack       0\n",
       "Target              0\n",
       "dtype: int64"
      ]
     },
     "execution_count": 43,
     "metadata": {},
     "output_type": "execute_result"
    }
   ],
   "source": [
    "df_resampled.isnull().sum()"
   ]
  },
  {
   "cell_type": "code",
   "execution_count": 31,
   "metadata": {},
   "outputs": [
    {
     "name": "stdout",
     "output_type": "stream",
     "text": [
      "<class 'pandas.core.frame.DataFrame'>\n",
      "RangeIndex: 1960040 entries, 0 to 1960039\n",
      "Data columns (total 18 columns):\n",
      " #   Column            Dtype  \n",
      "---  ------            -----  \n",
      " 0   ID                object \n",
      " 1   region            object \n",
      " 2   tenure            object \n",
      " 3   Amount            float64\n",
      " 4   refill_frequency  float64\n",
      " 5   revenue           float64\n",
      " 6   arpu_segment      float64\n",
      " 7   frequency         float64\n",
      " 8   data_volume       float64\n",
      " 9   on_net            float64\n",
      " 10  Procuct_1         float64\n",
      " 11  Procuct_2         float64\n",
      " 12  zone1             float64\n",
      " 13  zone2             float64\n",
      " 14  regularity        int64  \n",
      " 15  top_pack          object \n",
      " 16  freq_top_pack     float64\n",
      " 17  Target            int64  \n",
      "dtypes: float64(12), int64(2), object(4)\n",
      "memory usage: 269.2+ MB\n"
     ]
    }
   ],
   "source": [
    "df_resampled.info()"
   ]
  },
  {
   "cell_type": "markdown",
   "metadata": {},
   "source": [
    "Things to do the categorical columns\n",
    "1. One Hot encode columns less than 20\n",
    "2. If above 20:\n",
    "    - Perform Target Encoding\n",
    "    - Further catgorize the data"
   ]
  },
  {
   "cell_type": "code",
   "execution_count": 18,
   "metadata": {},
   "outputs": [
    {
     "name": "stdout",
     "output_type": "stream",
     "text": [
      "14\n",
      "8\n",
      "125\n"
     ]
    }
   ],
   "source": [
    "print(df_resampled['region'].nunique())\n",
    "print(df_resampled['tenure'].nunique())\n",
    "print(df_resampled['top_pack'].nunique())"
   ]
  },
  {
   "cell_type": "code",
   "execution_count": 77,
   "metadata": {},
   "outputs": [
    {
     "data": {
      "text/plain": [
       "NO    1960040\n",
       "Name: mrg, dtype: int64"
      ]
     },
     "execution_count": 77,
     "metadata": {},
     "output_type": "execute_result"
    }
   ],
   "source": [
    "df_resampled['mrg'].value_counts()"
   ]
  },
  {
   "cell_type": "markdown",
   "metadata": {},
   "source": [
    "#### Perfoming One-hot encoding"
   ]
  },
  {
   "cell_type": "code",
   "execution_count": 14,
   "metadata": {},
   "outputs": [],
   "source": [
    "# Train data encoding\n",
    "df_resampled_encoded = pd.get_dummies(df_resampled, columns=['region'], prefix='region', drop_first=True)\n",
    "df_resampled_encoded = pd.get_dummies(df_resampled_encoded, columns=['tenure'], prefix='tenure', drop_first=True)\n",
    "df_resampled_encoded = pd.get_dummies(df_resampled_encoded, columns=['mrg'], prefix='mrg', drop_first=True)"
   ]
  },
  {
   "cell_type": "code",
   "execution_count": 15,
   "metadata": {},
   "outputs": [],
   "source": [
    "# Test data encoding\n",
    "test_data_encoded = pd.get_dummies(test_data, columns=['region'], prefix='region', drop_first=True)\n",
    "test_data_encoded = pd.get_dummies(test_data_encoded, columns=['tenure'], prefix='tenure', drop_first=True)\n",
    "test_data_encoded = pd.get_dummies(test_data_encoded, columns=['mrg'], prefix='mrg', drop_first=True)"
   ]
  },
  {
   "cell_type": "code",
   "execution_count": 63,
   "metadata": {},
   "outputs": [],
   "source": [
    "# test_data_encoded.columns\n",
    "assert test_data_encoded.shape[1] == df_resampled_encoded.shape[1]"
   ]
  },
  {
   "cell_type": "code",
   "execution_count": 16,
   "metadata": {},
   "outputs": [
    {
     "data": {
      "text/plain": [
       "Index(['ID', 'Amount', 'refill_frequency', 'revenue', 'arpu_segment',\n",
       "       'frequency', 'data_volume', 'on_net', 'Procuct_1', 'Procuct_2', 'zone1',\n",
       "       'zone2', 'regularity', 'top_pack', 'freq_top_pack', 'Target',\n",
       "       'region_Celestial', 'region_Droidika', 'region_Eclipsara',\n",
       "       'region_Eternum', 'region_Forcehaven', 'region_Luminous',\n",
       "       'region_Mandalore', 'region_Nebula', 'region_Nebulith', 'region_Quasar',\n",
       "       'region_Radiantara', 'region_Stellaris', 'region_Zodiacalia',\n",
       "       'tenure_E 6-9 month', 'tenure_F 9-12 month', 'tenure_G 12-15 month',\n",
       "       'tenure_H 15-18 month', 'tenure_I 18-21 month', 'tenure_J 21-24 month',\n",
       "       'tenure_K > 24 month'],\n",
       "      dtype='object')"
      ]
     },
     "execution_count": 16,
     "metadata": {},
     "output_type": "execute_result"
    }
   ],
   "source": [
    "df_resampled_encoded.columns\n",
    "# df_resampled_encoded.shape"
   ]
  },
  {
   "cell_type": "markdown",
   "metadata": {},
   "source": [
    "#### Target Encoding"
   ]
  },
  {
   "cell_type": "code",
   "execution_count": 17,
   "metadata": {},
   "outputs": [],
   "source": [
    "# Let us apply Target encoding on the Top pack columns since it has a lot of unique entries\n",
    "\n",
    "# Instantiate a TargetEncoder\n",
    "target_encoder = ce.TargetEncoder(cols=['top_pack'])\n",
    "\n",
    "# Fit and transform the encoder on the training data\n",
    "train_encoded = target_encoder.fit_transform(df_resampled_encoded['top_pack'], df_resampled_encoded['Target'])\n",
    "\n",
    "# Transform the test data using the trained encoder\n",
    "test_encoded = target_encoder.transform(test_data_encoded['top_pack'])\n",
    "\n",
    "df_train_encoded = df_resampled_encoded.drop('top_pack', axis=1)\n",
    "test_df_encoded = test_data_encoded.drop('top_pack', axis=1, )\n",
    "\n",
    "# Combine the encoded columns with the original data\n",
    "train_combined = pd.concat([df_train_encoded, train_encoded], axis=1)\n",
    "test_combined = pd.concat([test_df_encoded, test_encoded], axis=1)"
   ]
  },
  {
   "cell_type": "code",
   "execution_count": 87,
   "metadata": {},
   "outputs": [],
   "source": [
    "# test_data_encoded.columns\n",
    "assert test_combined.shape[1] == train_combined.shape[1]"
   ]
  },
  {
   "cell_type": "code",
   "execution_count": 18,
   "metadata": {},
   "outputs": [
    {
     "data": {
      "text/html": [
       "<div>\n",
       "<style scoped>\n",
       "    .dataframe tbody tr th:only-of-type {\n",
       "        vertical-align: middle;\n",
       "    }\n",
       "\n",
       "    .dataframe tbody tr th {\n",
       "        vertical-align: top;\n",
       "    }\n",
       "\n",
       "    .dataframe thead th {\n",
       "        text-align: right;\n",
       "    }\n",
       "</style>\n",
       "<table border=\"1\" class=\"dataframe\">\n",
       "  <thead>\n",
       "    <tr style=\"text-align: right;\">\n",
       "      <th></th>\n",
       "      <th>ID</th>\n",
       "      <th>Amount</th>\n",
       "      <th>refill_frequency</th>\n",
       "      <th>revenue</th>\n",
       "      <th>arpu_segment</th>\n",
       "      <th>frequency</th>\n",
       "      <th>data_volume</th>\n",
       "      <th>on_net</th>\n",
       "      <th>Procuct_1</th>\n",
       "      <th>Procuct_2</th>\n",
       "      <th>...</th>\n",
       "      <th>region_Stellaris</th>\n",
       "      <th>region_Zodiacalia</th>\n",
       "      <th>tenure_E 6-9 month</th>\n",
       "      <th>tenure_F 9-12 month</th>\n",
       "      <th>tenure_G 12-15 month</th>\n",
       "      <th>tenure_H 15-18 month</th>\n",
       "      <th>tenure_I 18-21 month</th>\n",
       "      <th>tenure_J 21-24 month</th>\n",
       "      <th>tenure_K &gt; 24 month</th>\n",
       "      <th>top_pack</th>\n",
       "    </tr>\n",
       "  </thead>\n",
       "  <tbody>\n",
       "    <tr>\n",
       "      <th>0</th>\n",
       "      <td>ID_6F4J2UU2AMQS</td>\n",
       "      <td>2521.370000</td>\n",
       "      <td>16.000000</td>\n",
       "      <td>2817.090000</td>\n",
       "      <td>938.890000</td>\n",
       "      <td>28.000000</td>\n",
       "      <td>2987.617104</td>\n",
       "      <td>2551.000000</td>\n",
       "      <td>151.000000</td>\n",
       "      <td>2.000000</td>\n",
       "      <td>...</td>\n",
       "      <td>1</td>\n",
       "      <td>0</td>\n",
       "      <td>0</td>\n",
       "      <td>0</td>\n",
       "      <td>0</td>\n",
       "      <td>0</td>\n",
       "      <td>0</td>\n",
       "      <td>0</td>\n",
       "      <td>1</td>\n",
       "      <td>0.076380</td>\n",
       "    </tr>\n",
       "    <tr>\n",
       "      <th>1</th>\n",
       "      <td>ID_URXVK65YSE60</td>\n",
       "      <td>2168.387224</td>\n",
       "      <td>10.495313</td>\n",
       "      <td>2136.907517</td>\n",
       "      <td>712.305590</td>\n",
       "      <td>12.660330</td>\n",
       "      <td>1178.000000</td>\n",
       "      <td>245.586557</td>\n",
       "      <td>88.695962</td>\n",
       "      <td>22.082582</td>\n",
       "      <td>...</td>\n",
       "      <td>0</td>\n",
       "      <td>0</td>\n",
       "      <td>0</td>\n",
       "      <td>0</td>\n",
       "      <td>0</td>\n",
       "      <td>0</td>\n",
       "      <td>0</td>\n",
       "      <td>0</td>\n",
       "      <td>1</td>\n",
       "      <td>0.648016</td>\n",
       "    </tr>\n",
       "    <tr>\n",
       "      <th>2</th>\n",
       "      <td>ID_PDGTXW55QUZH</td>\n",
       "      <td>2210.379255</td>\n",
       "      <td>11.399920</td>\n",
       "      <td>2111.781501</td>\n",
       "      <td>703.928155</td>\n",
       "      <td>13.552641</td>\n",
       "      <td>3735.837884</td>\n",
       "      <td>241.474793</td>\n",
       "      <td>78.487208</td>\n",
       "      <td>20.874499</td>\n",
       "      <td>...</td>\n",
       "      <td>0</td>\n",
       "      <td>0</td>\n",
       "      <td>0</td>\n",
       "      <td>0</td>\n",
       "      <td>0</td>\n",
       "      <td>0</td>\n",
       "      <td>0</td>\n",
       "      <td>1</td>\n",
       "      <td>0</td>\n",
       "      <td>0.648016</td>\n",
       "    </tr>\n",
       "    <tr>\n",
       "      <th>3</th>\n",
       "      <td>ID_4RO0BNTI7IEJ</td>\n",
       "      <td>2168.387224</td>\n",
       "      <td>10.495313</td>\n",
       "      <td>2136.907517</td>\n",
       "      <td>712.305590</td>\n",
       "      <td>12.660330</td>\n",
       "      <td>2987.617104</td>\n",
       "      <td>245.586557</td>\n",
       "      <td>88.695962</td>\n",
       "      <td>22.082582</td>\n",
       "      <td>...</td>\n",
       "      <td>0</td>\n",
       "      <td>0</td>\n",
       "      <td>0</td>\n",
       "      <td>0</td>\n",
       "      <td>0</td>\n",
       "      <td>0</td>\n",
       "      <td>0</td>\n",
       "      <td>0</td>\n",
       "      <td>1</td>\n",
       "      <td>0.648016</td>\n",
       "    </tr>\n",
       "    <tr>\n",
       "      <th>4</th>\n",
       "      <td>ID_IAHBVXBPE6WV</td>\n",
       "      <td>3354.700000</td>\n",
       "      <td>32.000000</td>\n",
       "      <td>3738.890000</td>\n",
       "      <td>1246.150000</td>\n",
       "      <td>40.000000</td>\n",
       "      <td>5621.000000</td>\n",
       "      <td>4.000000</td>\n",
       "      <td>18.000000</td>\n",
       "      <td>0.000000</td>\n",
       "      <td>...</td>\n",
       "      <td>0</td>\n",
       "      <td>0</td>\n",
       "      <td>0</td>\n",
       "      <td>0</td>\n",
       "      <td>0</td>\n",
       "      <td>0</td>\n",
       "      <td>0</td>\n",
       "      <td>0</td>\n",
       "      <td>1</td>\n",
       "      <td>0.215368</td>\n",
       "    </tr>\n",
       "  </tbody>\n",
       "</table>\n",
       "<p>5 rows × 36 columns</p>\n",
       "</div>"
      ],
      "text/plain": [
       "                ID       Amount  refill_frequency      revenue  arpu_segment  \\\n",
       "0  ID_6F4J2UU2AMQS  2521.370000         16.000000  2817.090000    938.890000   \n",
       "1  ID_URXVK65YSE60  2168.387224         10.495313  2136.907517    712.305590   \n",
       "2  ID_PDGTXW55QUZH  2210.379255         11.399920  2111.781501    703.928155   \n",
       "3  ID_4RO0BNTI7IEJ  2168.387224         10.495313  2136.907517    712.305590   \n",
       "4  ID_IAHBVXBPE6WV  3354.700000         32.000000  3738.890000   1246.150000   \n",
       "\n",
       "   frequency  data_volume       on_net   Procuct_1  Procuct_2  ...  \\\n",
       "0  28.000000  2987.617104  2551.000000  151.000000   2.000000  ...   \n",
       "1  12.660330  1178.000000   245.586557   88.695962  22.082582  ...   \n",
       "2  13.552641  3735.837884   241.474793   78.487208  20.874499  ...   \n",
       "3  12.660330  2987.617104   245.586557   88.695962  22.082582  ...   \n",
       "4  40.000000  5621.000000     4.000000   18.000000   0.000000  ...   \n",
       "\n",
       "   region_Stellaris  region_Zodiacalia  tenure_E 6-9 month  \\\n",
       "0                 1                  0                   0   \n",
       "1                 0                  0                   0   \n",
       "2                 0                  0                   0   \n",
       "3                 0                  0                   0   \n",
       "4                 0                  0                   0   \n",
       "\n",
       "   tenure_F 9-12 month  tenure_G 12-15 month  tenure_H 15-18 month  \\\n",
       "0                    0                     0                     0   \n",
       "1                    0                     0                     0   \n",
       "2                    0                     0                     0   \n",
       "3                    0                     0                     0   \n",
       "4                    0                     0                     0   \n",
       "\n",
       "   tenure_I 18-21 month  tenure_J 21-24 month  tenure_K > 24 month  top_pack  \n",
       "0                     0                     0                    1  0.076380  \n",
       "1                     0                     0                    1  0.648016  \n",
       "2                     0                     1                    0  0.648016  \n",
       "3                     0                     0                    1  0.648016  \n",
       "4                     0                     0                    1  0.215368  \n",
       "\n",
       "[5 rows x 36 columns]"
      ]
     },
     "execution_count": 18,
     "metadata": {},
     "output_type": "execute_result"
    }
   ],
   "source": [
    "train_combined.head()"
   ]
  },
  {
   "cell_type": "code",
   "execution_count": 19,
   "metadata": {},
   "outputs": [
    {
     "data": {
      "text/plain": [
       "Index(['ID', 'Amount', 'refill_frequency', 'revenue', 'arpu_segment',\n",
       "       'frequency', 'data_volume', 'on_net', 'Procuct_1', 'Procuct_2', 'zone1',\n",
       "       'zone2', 'regularity', 'freq_top_pack', 'Target', 'region_Celestial',\n",
       "       'region_Droidika', 'region_Eclipsara', 'region_Eternum',\n",
       "       'region_Forcehaven', 'region_Luminous', 'region_Mandalore',\n",
       "       'region_Nebula', 'region_Nebulith', 'region_Quasar',\n",
       "       'region_Radiantara', 'region_Stellaris', 'region_Zodiacalia',\n",
       "       'tenure_E 6-9 month', 'tenure_F 9-12 month', 'tenure_G 12-15 month',\n",
       "       'tenure_H 15-18 month', 'tenure_I 18-21 month', 'tenure_J 21-24 month',\n",
       "       'tenure_K > 24 month', 'top_pack'],\n",
       "      dtype='object')"
      ]
     },
     "execution_count": 19,
     "metadata": {},
     "output_type": "execute_result"
    }
   ],
   "source": [
    "train_combined.columns"
   ]
  },
  {
   "cell_type": "code",
   "execution_count": 20,
   "metadata": {},
   "outputs": [
    {
     "data": {
      "text/plain": [
       "Index(['ID', 'Amount', 'refill_frequency', 'revenue', 'arpu_segment',\n",
       "       'frequency', 'data_volume', 'on_net', 'Procuct_1', 'Procuct_2', 'zone1',\n",
       "       'zone2', 'regularity', 'freq_top_pack', 'region_Celestial',\n",
       "       'region_Droidika', 'region_Eclipsara', 'region_Eternum',\n",
       "       'region_Forcehaven', 'region_Luminous', 'region_Mandalore',\n",
       "       'region_Nebula', 'region_Nebulith', 'region_Quasar',\n",
       "       'region_Radiantara', 'region_Stellaris', 'region_Zodiacalia',\n",
       "       'tenure_E 6-9 month', 'tenure_F 9-12 month', 'tenure_G 12-15 month',\n",
       "       'tenure_H 15-18 month', 'tenure_I 18-21 month', 'tenure_J 21-24 month',\n",
       "       'tenure_K > 24 month', 'top_pack'],\n",
       "      dtype='object')"
      ]
     },
     "execution_count": 20,
     "metadata": {},
     "output_type": "execute_result"
    }
   ],
   "source": [
    "\n",
    "test_combined.columns"
   ]
  },
  {
   "cell_type": "code",
   "execution_count": 21,
   "metadata": {},
   "outputs": [
    {
     "name": "stdout",
     "output_type": "stream",
     "text": [
      "(1960040, 36)\n",
      "(380127, 35)\n"
     ]
    }
   ],
   "source": [
    "print(train_combined.shape)\n",
    "print(test_combined.shape)"
   ]
  },
  {
   "cell_type": "code",
   "execution_count": 86,
   "metadata": {},
   "outputs": [
    {
     "name": "stdout",
     "output_type": "stream",
     "text": [
      "<class 'pandas.core.frame.DataFrame'>\n",
      "RangeIndex: 1960040 entries, 0 to 1960039\n",
      "Data columns (total 36 columns):\n",
      " #   Column                Dtype  \n",
      "---  ------                -----  \n",
      " 0   ID                    object \n",
      " 1   Amount                float64\n",
      " 2   refill_frequency      float64\n",
      " 3   revenue               float64\n",
      " 4   arpu_segment          float64\n",
      " 5   frequency             float64\n",
      " 6   data_volume           float64\n",
      " 7   on_net                float64\n",
      " 8   Procuct_1             float64\n",
      " 9   Procuct_2             float64\n",
      " 10  zone1                 float64\n",
      " 11  zone2                 float64\n",
      " 12  regularity            int64  \n",
      " 13  freq_top_pack         float64\n",
      " 14  Target                int64  \n",
      " 15  region_Celestial      uint8  \n",
      " 16  region_Droidika       uint8  \n",
      " 17  region_Eclipsara      uint8  \n",
      " 18  region_Eternum        uint8  \n",
      " 19  region_Forcehaven     uint8  \n",
      " 20  region_Luminous       uint8  \n",
      " 21  region_Mandalore      uint8  \n",
      " 22  region_Nebula         uint8  \n",
      " 23  region_Nebulith       uint8  \n",
      " 24  region_Quasar         uint8  \n",
      " 25  region_Radiantara     uint8  \n",
      " 26  region_Stellaris      uint8  \n",
      " 27  region_Zodiacalia     uint8  \n",
      " 28  tenure_E 6-9 month    uint8  \n",
      " 29  tenure_F 9-12 month   uint8  \n",
      " 30  tenure_G 12-15 month  uint8  \n",
      " 31  tenure_H 15-18 month  uint8  \n",
      " 32  tenure_I 18-21 month  uint8  \n",
      " 33  tenure_J 21-24 month  uint8  \n",
      " 34  tenure_K > 24 month   uint8  \n",
      " 35  top_pack              float64\n",
      "dtypes: float64(13), int64(2), object(1), uint8(20)\n",
      "memory usage: 276.6+ MB\n"
     ]
    }
   ],
   "source": [
    "# test_data_encoded.columns\n",
    "train_combined.info()"
   ]
  },
  {
   "cell_type": "code",
   "execution_count": 87,
   "metadata": {},
   "outputs": [
    {
     "name": "stdout",
     "output_type": "stream",
     "text": [
      "<class 'pandas.core.frame.DataFrame'>\n",
      "RangeIndex: 380127 entries, 0 to 380126\n",
      "Data columns (total 35 columns):\n",
      " #   Column                Non-Null Count   Dtype  \n",
      "---  ------                --------------   -----  \n",
      " 0   ID                    380127 non-null  object \n",
      " 1   Amount                380127 non-null  float64\n",
      " 2   refill_frequency      380127 non-null  float64\n",
      " 3   revenue               380127 non-null  float64\n",
      " 4   arpu_segment          380127 non-null  float64\n",
      " 5   frequency             380127 non-null  float64\n",
      " 6   data_volume           380127 non-null  float64\n",
      " 7   on_net                380127 non-null  float64\n",
      " 8   Procuct_1             380127 non-null  float64\n",
      " 9   Procuct_2             380127 non-null  float64\n",
      " 10  zone1                 380127 non-null  float64\n",
      " 11  zone2                 380127 non-null  float64\n",
      " 12  regularity            380127 non-null  int64  \n",
      " 13  freq_top_pack         380127 non-null  float64\n",
      " 14  region_Celestial      380127 non-null  uint8  \n",
      " 15  region_Droidika       380127 non-null  uint8  \n",
      " 16  region_Eclipsara      380127 non-null  uint8  \n",
      " 17  region_Eternum        380127 non-null  uint8  \n",
      " 18  region_Forcehaven     380127 non-null  uint8  \n",
      " 19  region_Luminous       380127 non-null  uint8  \n",
      " 20  region_Mandalore      380127 non-null  uint8  \n",
      " 21  region_Nebula         380127 non-null  uint8  \n",
      " 22  region_Nebulith       380127 non-null  uint8  \n",
      " 23  region_Quasar         380127 non-null  uint8  \n",
      " 24  region_Radiantara     380127 non-null  uint8  \n",
      " 25  region_Stellaris      380127 non-null  uint8  \n",
      " 26  region_Zodiacalia     380127 non-null  uint8  \n",
      " 27  tenure_E 6-9 month    380127 non-null  uint8  \n",
      " 28  tenure_F 9-12 month   380127 non-null  uint8  \n",
      " 29  tenure_G 12-15 month  380127 non-null  uint8  \n",
      " 30  tenure_H 15-18 month  380127 non-null  uint8  \n",
      " 31  tenure_I 18-21 month  380127 non-null  uint8  \n",
      " 32  tenure_J 21-24 month  380127 non-null  uint8  \n",
      " 33  tenure_K > 24 month   380127 non-null  uint8  \n",
      " 34  top_pack              380127 non-null  float64\n",
      "dtypes: float64(13), int64(1), object(1), uint8(20)\n",
      "memory usage: 50.8+ MB\n"
     ]
    }
   ],
   "source": [
    "test_combined.info()"
   ]
  },
  {
   "cell_type": "code",
   "execution_count": 78,
   "metadata": {},
   "outputs": [
    {
     "name": "stderr",
     "output_type": "stream",
     "text": [
      "C:\\Users\\UKASHI\\AppData\\Local\\Temp\\ipykernel_3908\\4029788839.py:1: SettingWithCopyWarning: \n",
      "A value is trying to be set on a copy of a slice from a DataFrame\n",
      "\n",
      "See the caveats in the documentation: https://pandas.pydata.org/pandas-docs/stable/user_guide/indexing.html#returning-a-view-versus-a-copy\n",
      "  train_df.drop('regularity_group', axis=1, inplace=True)\n"
     ]
    }
   ],
   "source": [
    "train_df.drop('regularity_group', axis=1, inplace=True)"
   ]
  },
  {
   "cell_type": "code",
   "execution_count": 22,
   "metadata": {},
   "outputs": [],
   "source": [
    "train_combined.drop('ID', axis=1, inplace=True)\n",
    "test_combined.drop('ID', axis=1, inplace=True)"
   ]
  },
  {
   "cell_type": "markdown",
   "metadata": {},
   "source": [
    "## VIF "
   ]
  },
  {
   "cell_type": "code",
   "execution_count": 23,
   "metadata": {},
   "outputs": [
    {
     "data": {
      "text/plain": [
       "Amount                  0\n",
       "refill_frequency        0\n",
       "revenue                 0\n",
       "arpu_segment            0\n",
       "frequency               0\n",
       "data_volume             0\n",
       "on_net                  0\n",
       "Procuct_1               0\n",
       "Procuct_2               0\n",
       "zone1                   0\n",
       "zone2                   0\n",
       "regularity              0\n",
       "freq_top_pack           0\n",
       "Target                  0\n",
       "region_Celestial        0\n",
       "region_Droidika         0\n",
       "region_Eclipsara        0\n",
       "region_Eternum          0\n",
       "region_Forcehaven       0\n",
       "region_Luminous         0\n",
       "region_Mandalore        0\n",
       "region_Nebula           0\n",
       "region_Nebulith         0\n",
       "region_Quasar           0\n",
       "region_Radiantara       0\n",
       "region_Stellaris        0\n",
       "region_Zodiacalia       0\n",
       "tenure_E 6-9 month      0\n",
       "tenure_F 9-12 month     0\n",
       "tenure_G 12-15 month    0\n",
       "tenure_H 15-18 month    0\n",
       "tenure_I 18-21 month    0\n",
       "tenure_J 21-24 month    0\n",
       "tenure_K > 24 month     0\n",
       "top_pack                0\n",
       "dtype: int64"
      ]
     },
     "execution_count": 23,
     "metadata": {},
     "output_type": "execute_result"
    }
   ],
   "source": [
    "train_combined.isnull().sum()"
   ]
  },
  {
   "cell_type": "code",
   "execution_count": 34,
   "metadata": {},
   "outputs": [
    {
     "ename": "TypeError",
     "evalue": "ufunc 'isfinite' not supported for the input types, and the inputs could not be safely coerced to any supported types according to the casting rule ''safe''",
     "output_type": "error",
     "traceback": [
      "\u001b[1;31m---------------------------------------------------------------------------\u001b[0m",
      "\u001b[1;31mTypeError\u001b[0m                                 Traceback (most recent call last)",
      "\u001b[1;32mc:\\Users\\UKASHI\\Documents\\Github\\ukachi-data-science\\sasol-customer-retention\\model_building.ipynb Cell 83\u001b[0m line \u001b[0;36m7\n\u001b[0;32m      <a href='vscode-notebook-cell:/c%3A/Users/UKASHI/Documents/Github/ukachi-data-science/sasol-customer-retention/model_building.ipynb#Y205sZmlsZQ%3D%3D?line=4'>5</a>\u001b[0m vif_data \u001b[39m=\u001b[39m pd\u001b[39m.\u001b[39mDataFrame()\n\u001b[0;32m      <a href='vscode-notebook-cell:/c%3A/Users/UKASHI/Documents/Github/ukachi-data-science/sasol-customer-retention/model_building.ipynb#Y205sZmlsZQ%3D%3D?line=5'>6</a>\u001b[0m vif_data[\u001b[39m\"\u001b[39m\u001b[39mVariable\u001b[39m\u001b[39m\"\u001b[39m] \u001b[39m=\u001b[39m predictors\u001b[39m.\u001b[39mcolumns\n\u001b[1;32m----> <a href='vscode-notebook-cell:/c%3A/Users/UKASHI/Documents/Github/ukachi-data-science/sasol-customer-retention/model_building.ipynb#Y205sZmlsZQ%3D%3D?line=6'>7</a>\u001b[0m vif_data[\u001b[39m\"\u001b[39m\u001b[39mVIF\u001b[39m\u001b[39m\"\u001b[39m] \u001b[39m=\u001b[39m [variance_inflation_factor(predictors\u001b[39m.\u001b[39mvalues, i) \u001b[39mfor\u001b[39;00m i \u001b[39min\u001b[39;00m \u001b[39mrange\u001b[39m(predictors\u001b[39m.\u001b[39mshape[\u001b[39m1\u001b[39m])]\n\u001b[0;32m      <a href='vscode-notebook-cell:/c%3A/Users/UKASHI/Documents/Github/ukachi-data-science/sasol-customer-retention/model_building.ipynb#Y205sZmlsZQ%3D%3D?line=8'>9</a>\u001b[0m \u001b[39m# Display the VIF DataFrame\u001b[39;00m\n\u001b[0;32m     <a href='vscode-notebook-cell:/c%3A/Users/UKASHI/Documents/Github/ukachi-data-science/sasol-customer-retention/model_building.ipynb#Y205sZmlsZQ%3D%3D?line=9'>10</a>\u001b[0m \u001b[39mprint\u001b[39m(vif_data)\n",
      "\u001b[1;32mc:\\Users\\UKASHI\\Documents\\Github\\ukachi-data-science\\sasol-customer-retention\\model_building.ipynb Cell 83\u001b[0m line \u001b[0;36m7\n\u001b[0;32m      <a href='vscode-notebook-cell:/c%3A/Users/UKASHI/Documents/Github/ukachi-data-science/sasol-customer-retention/model_building.ipynb#Y205sZmlsZQ%3D%3D?line=4'>5</a>\u001b[0m vif_data \u001b[39m=\u001b[39m pd\u001b[39m.\u001b[39mDataFrame()\n\u001b[0;32m      <a href='vscode-notebook-cell:/c%3A/Users/UKASHI/Documents/Github/ukachi-data-science/sasol-customer-retention/model_building.ipynb#Y205sZmlsZQ%3D%3D?line=5'>6</a>\u001b[0m vif_data[\u001b[39m\"\u001b[39m\u001b[39mVariable\u001b[39m\u001b[39m\"\u001b[39m] \u001b[39m=\u001b[39m predictors\u001b[39m.\u001b[39mcolumns\n\u001b[1;32m----> <a href='vscode-notebook-cell:/c%3A/Users/UKASHI/Documents/Github/ukachi-data-science/sasol-customer-retention/model_building.ipynb#Y205sZmlsZQ%3D%3D?line=6'>7</a>\u001b[0m vif_data[\u001b[39m\"\u001b[39m\u001b[39mVIF\u001b[39m\u001b[39m\"\u001b[39m] \u001b[39m=\u001b[39m [variance_inflation_factor(predictors\u001b[39m.\u001b[39;49mvalues, i) \u001b[39mfor\u001b[39;00m i \u001b[39min\u001b[39;00m \u001b[39mrange\u001b[39m(predictors\u001b[39m.\u001b[39mshape[\u001b[39m1\u001b[39m])]\n\u001b[0;32m      <a href='vscode-notebook-cell:/c%3A/Users/UKASHI/Documents/Github/ukachi-data-science/sasol-customer-retention/model_building.ipynb#Y205sZmlsZQ%3D%3D?line=8'>9</a>\u001b[0m \u001b[39m# Display the VIF DataFrame\u001b[39;00m\n\u001b[0;32m     <a href='vscode-notebook-cell:/c%3A/Users/UKASHI/Documents/Github/ukachi-data-science/sasol-customer-retention/model_building.ipynb#Y205sZmlsZQ%3D%3D?line=9'>10</a>\u001b[0m \u001b[39mprint\u001b[39m(vif_data)\n",
      "File \u001b[1;32mc:\\Users\\UKASHI\\anaconda3\\envs\\e-library\\lib\\site-packages\\statsmodels\\stats\\outliers_influence.py:197\u001b[0m, in \u001b[0;36mvariance_inflation_factor\u001b[1;34m(exog, exog_idx)\u001b[0m\n\u001b[0;32m    195\u001b[0m mask \u001b[39m=\u001b[39m np\u001b[39m.\u001b[39marange(k_vars) \u001b[39m!=\u001b[39m exog_idx\n\u001b[0;32m    196\u001b[0m x_noti \u001b[39m=\u001b[39m exog[:, mask]\n\u001b[1;32m--> 197\u001b[0m r_squared_i \u001b[39m=\u001b[39m OLS(x_i, x_noti)\u001b[39m.\u001b[39mfit()\u001b[39m.\u001b[39mrsquared\n\u001b[0;32m    198\u001b[0m vif \u001b[39m=\u001b[39m \u001b[39m1.\u001b[39m \u001b[39m/\u001b[39m (\u001b[39m1.\u001b[39m \u001b[39m-\u001b[39m r_squared_i)\n\u001b[0;32m    199\u001b[0m \u001b[39mreturn\u001b[39;00m vif\n",
      "File \u001b[1;32mc:\\Users\\UKASHI\\anaconda3\\envs\\e-library\\lib\\site-packages\\statsmodels\\regression\\linear_model.py:922\u001b[0m, in \u001b[0;36mOLS.__init__\u001b[1;34m(self, endog, exog, missing, hasconst, **kwargs)\u001b[0m\n\u001b[0;32m    919\u001b[0m     msg \u001b[39m=\u001b[39m (\u001b[39m\"\u001b[39m\u001b[39mWeights are not supported in OLS and will be ignored\u001b[39m\u001b[39m\"\u001b[39m\n\u001b[0;32m    920\u001b[0m            \u001b[39m\"\u001b[39m\u001b[39mAn exception will be raised in the next version.\u001b[39m\u001b[39m\"\u001b[39m)\n\u001b[0;32m    921\u001b[0m     warnings\u001b[39m.\u001b[39mwarn(msg, ValueWarning)\n\u001b[1;32m--> 922\u001b[0m \u001b[39msuper\u001b[39m(OLS, \u001b[39mself\u001b[39m)\u001b[39m.\u001b[39m\u001b[39m__init__\u001b[39m(endog, exog, missing\u001b[39m=\u001b[39mmissing,\n\u001b[0;32m    923\u001b[0m                           hasconst\u001b[39m=\u001b[39mhasconst, \u001b[39m*\u001b[39m\u001b[39m*\u001b[39mkwargs)\n\u001b[0;32m    924\u001b[0m \u001b[39mif\u001b[39;00m \u001b[39m\"\u001b[39m\u001b[39mweights\u001b[39m\u001b[39m\"\u001b[39m \u001b[39min\u001b[39;00m \u001b[39mself\u001b[39m\u001b[39m.\u001b[39m_init_keys:\n\u001b[0;32m    925\u001b[0m     \u001b[39mself\u001b[39m\u001b[39m.\u001b[39m_init_keys\u001b[39m.\u001b[39mremove(\u001b[39m\"\u001b[39m\u001b[39mweights\u001b[39m\u001b[39m\"\u001b[39m)\n",
      "File \u001b[1;32mc:\\Users\\UKASHI\\anaconda3\\envs\\e-library\\lib\\site-packages\\statsmodels\\regression\\linear_model.py:748\u001b[0m, in \u001b[0;36mWLS.__init__\u001b[1;34m(self, endog, exog, weights, missing, hasconst, **kwargs)\u001b[0m\n\u001b[0;32m    746\u001b[0m \u001b[39melse\u001b[39;00m:\n\u001b[0;32m    747\u001b[0m     weights \u001b[39m=\u001b[39m weights\u001b[39m.\u001b[39msqueeze()\n\u001b[1;32m--> 748\u001b[0m \u001b[39msuper\u001b[39m(WLS, \u001b[39mself\u001b[39m)\u001b[39m.\u001b[39m\u001b[39m__init__\u001b[39m(endog, exog, missing\u001b[39m=\u001b[39mmissing,\n\u001b[0;32m    749\u001b[0m                           weights\u001b[39m=\u001b[39mweights, hasconst\u001b[39m=\u001b[39mhasconst, \u001b[39m*\u001b[39m\u001b[39m*\u001b[39mkwargs)\n\u001b[0;32m    750\u001b[0m nobs \u001b[39m=\u001b[39m \u001b[39mself\u001b[39m\u001b[39m.\u001b[39mexog\u001b[39m.\u001b[39mshape[\u001b[39m0\u001b[39m]\n\u001b[0;32m    751\u001b[0m weights \u001b[39m=\u001b[39m \u001b[39mself\u001b[39m\u001b[39m.\u001b[39mweights\n",
      "File \u001b[1;32mc:\\Users\\UKASHI\\anaconda3\\envs\\e-library\\lib\\site-packages\\statsmodels\\regression\\linear_model.py:202\u001b[0m, in \u001b[0;36mRegressionModel.__init__\u001b[1;34m(self, endog, exog, **kwargs)\u001b[0m\n\u001b[0;32m    201\u001b[0m \u001b[39mdef\u001b[39;00m \u001b[39m__init__\u001b[39m(\u001b[39mself\u001b[39m, endog, exog, \u001b[39m*\u001b[39m\u001b[39m*\u001b[39mkwargs):\n\u001b[1;32m--> 202\u001b[0m     \u001b[39msuper\u001b[39m(RegressionModel, \u001b[39mself\u001b[39m)\u001b[39m.\u001b[39m\u001b[39m__init__\u001b[39m(endog, exog, \u001b[39m*\u001b[39m\u001b[39m*\u001b[39mkwargs)\n\u001b[0;32m    203\u001b[0m     \u001b[39mself\u001b[39m\u001b[39m.\u001b[39mpinv_wexog: Float64Array \u001b[39m|\u001b[39m \u001b[39mNone\u001b[39;00m \u001b[39m=\u001b[39m \u001b[39mNone\u001b[39;00m\n\u001b[0;32m    204\u001b[0m     \u001b[39mself\u001b[39m\u001b[39m.\u001b[39m_data_attr\u001b[39m.\u001b[39mextend([\u001b[39m'\u001b[39m\u001b[39mpinv_wexog\u001b[39m\u001b[39m'\u001b[39m, \u001b[39m'\u001b[39m\u001b[39mwendog\u001b[39m\u001b[39m'\u001b[39m, \u001b[39m'\u001b[39m\u001b[39mwexog\u001b[39m\u001b[39m'\u001b[39m, \u001b[39m'\u001b[39m\u001b[39mweights\u001b[39m\u001b[39m'\u001b[39m])\n",
      "File \u001b[1;32mc:\\Users\\UKASHI\\anaconda3\\envs\\e-library\\lib\\site-packages\\statsmodels\\base\\model.py:270\u001b[0m, in \u001b[0;36mLikelihoodModel.__init__\u001b[1;34m(self, endog, exog, **kwargs)\u001b[0m\n\u001b[0;32m    269\u001b[0m \u001b[39mdef\u001b[39;00m \u001b[39m__init__\u001b[39m(\u001b[39mself\u001b[39m, endog, exog\u001b[39m=\u001b[39m\u001b[39mNone\u001b[39;00m, \u001b[39m*\u001b[39m\u001b[39m*\u001b[39mkwargs):\n\u001b[1;32m--> 270\u001b[0m     \u001b[39msuper\u001b[39m()\u001b[39m.\u001b[39m\u001b[39m__init__\u001b[39m(endog, exog, \u001b[39m*\u001b[39m\u001b[39m*\u001b[39mkwargs)\n\u001b[0;32m    271\u001b[0m     \u001b[39mself\u001b[39m\u001b[39m.\u001b[39minitialize()\n",
      "File \u001b[1;32mc:\\Users\\UKASHI\\anaconda3\\envs\\e-library\\lib\\site-packages\\statsmodels\\base\\model.py:95\u001b[0m, in \u001b[0;36mModel.__init__\u001b[1;34m(self, endog, exog, **kwargs)\u001b[0m\n\u001b[0;32m     93\u001b[0m missing \u001b[39m=\u001b[39m kwargs\u001b[39m.\u001b[39mpop(\u001b[39m'\u001b[39m\u001b[39mmissing\u001b[39m\u001b[39m'\u001b[39m, \u001b[39m'\u001b[39m\u001b[39mnone\u001b[39m\u001b[39m'\u001b[39m)\n\u001b[0;32m     94\u001b[0m hasconst \u001b[39m=\u001b[39m kwargs\u001b[39m.\u001b[39mpop(\u001b[39m'\u001b[39m\u001b[39mhasconst\u001b[39m\u001b[39m'\u001b[39m, \u001b[39mNone\u001b[39;00m)\n\u001b[1;32m---> 95\u001b[0m \u001b[39mself\u001b[39m\u001b[39m.\u001b[39mdata \u001b[39m=\u001b[39m \u001b[39mself\u001b[39m\u001b[39m.\u001b[39m_handle_data(endog, exog, missing, hasconst,\n\u001b[0;32m     96\u001b[0m                               \u001b[39m*\u001b[39m\u001b[39m*\u001b[39mkwargs)\n\u001b[0;32m     97\u001b[0m \u001b[39mself\u001b[39m\u001b[39m.\u001b[39mk_constant \u001b[39m=\u001b[39m \u001b[39mself\u001b[39m\u001b[39m.\u001b[39mdata\u001b[39m.\u001b[39mk_constant\n\u001b[0;32m     98\u001b[0m \u001b[39mself\u001b[39m\u001b[39m.\u001b[39mexog \u001b[39m=\u001b[39m \u001b[39mself\u001b[39m\u001b[39m.\u001b[39mdata\u001b[39m.\u001b[39mexog\n",
      "File \u001b[1;32mc:\\Users\\UKASHI\\anaconda3\\envs\\e-library\\lib\\site-packages\\statsmodels\\base\\model.py:135\u001b[0m, in \u001b[0;36mModel._handle_data\u001b[1;34m(self, endog, exog, missing, hasconst, **kwargs)\u001b[0m\n\u001b[0;32m    134\u001b[0m \u001b[39mdef\u001b[39;00m \u001b[39m_handle_data\u001b[39m(\u001b[39mself\u001b[39m, endog, exog, missing, hasconst, \u001b[39m*\u001b[39m\u001b[39m*\u001b[39mkwargs):\n\u001b[1;32m--> 135\u001b[0m     data \u001b[39m=\u001b[39m handle_data(endog, exog, missing, hasconst, \u001b[39m*\u001b[39m\u001b[39m*\u001b[39mkwargs)\n\u001b[0;32m    136\u001b[0m     \u001b[39m# kwargs arrays could have changed, easier to just attach here\u001b[39;00m\n\u001b[0;32m    137\u001b[0m     \u001b[39mfor\u001b[39;00m key \u001b[39min\u001b[39;00m kwargs:\n",
      "File \u001b[1;32mc:\\Users\\UKASHI\\anaconda3\\envs\\e-library\\lib\\site-packages\\statsmodels\\base\\data.py:675\u001b[0m, in \u001b[0;36mhandle_data\u001b[1;34m(endog, exog, missing, hasconst, **kwargs)\u001b[0m\n\u001b[0;32m    672\u001b[0m     exog \u001b[39m=\u001b[39m np\u001b[39m.\u001b[39masarray(exog)\n\u001b[0;32m    674\u001b[0m klass \u001b[39m=\u001b[39m handle_data_class_factory(endog, exog)\n\u001b[1;32m--> 675\u001b[0m \u001b[39mreturn\u001b[39;00m klass(endog, exog\u001b[39m=\u001b[39mexog, missing\u001b[39m=\u001b[39mmissing, hasconst\u001b[39m=\u001b[39mhasconst,\n\u001b[0;32m    676\u001b[0m              \u001b[39m*\u001b[39m\u001b[39m*\u001b[39mkwargs)\n",
      "File \u001b[1;32mc:\\Users\\UKASHI\\anaconda3\\envs\\e-library\\lib\\site-packages\\statsmodels\\base\\data.py:88\u001b[0m, in \u001b[0;36mModelData.__init__\u001b[1;34m(self, endog, exog, missing, hasconst, **kwargs)\u001b[0m\n\u001b[0;32m     86\u001b[0m \u001b[39mself\u001b[39m\u001b[39m.\u001b[39mconst_idx \u001b[39m=\u001b[39m \u001b[39mNone\u001b[39;00m\n\u001b[0;32m     87\u001b[0m \u001b[39mself\u001b[39m\u001b[39m.\u001b[39mk_constant \u001b[39m=\u001b[39m \u001b[39m0\u001b[39m\n\u001b[1;32m---> 88\u001b[0m \u001b[39mself\u001b[39;49m\u001b[39m.\u001b[39;49m_handle_constant(hasconst)\n\u001b[0;32m     89\u001b[0m \u001b[39mself\u001b[39m\u001b[39m.\u001b[39m_check_integrity()\n\u001b[0;32m     90\u001b[0m \u001b[39mself\u001b[39m\u001b[39m.\u001b[39m_cache \u001b[39m=\u001b[39m {}\n",
      "File \u001b[1;32mc:\\Users\\UKASHI\\anaconda3\\envs\\e-library\\lib\\site-packages\\statsmodels\\base\\data.py:133\u001b[0m, in \u001b[0;36mModelData._handle_constant\u001b[1;34m(self, hasconst)\u001b[0m\n\u001b[0;32m    131\u001b[0m check_implicit \u001b[39m=\u001b[39m \u001b[39mFalse\u001b[39;00m\n\u001b[0;32m    132\u001b[0m exog_max \u001b[39m=\u001b[39m np\u001b[39m.\u001b[39mmax(\u001b[39mself\u001b[39m\u001b[39m.\u001b[39mexog, axis\u001b[39m=\u001b[39m\u001b[39m0\u001b[39m)\n\u001b[1;32m--> 133\u001b[0m \u001b[39mif\u001b[39;00m \u001b[39mnot\u001b[39;00m np\u001b[39m.\u001b[39;49misfinite(exog_max)\u001b[39m.\u001b[39mall():\n\u001b[0;32m    134\u001b[0m     \u001b[39mraise\u001b[39;00m MissingDataError(\u001b[39m'\u001b[39m\u001b[39mexog contains inf or nans\u001b[39m\u001b[39m'\u001b[39m)\n\u001b[0;32m    135\u001b[0m exog_min \u001b[39m=\u001b[39m np\u001b[39m.\u001b[39mmin(\u001b[39mself\u001b[39m\u001b[39m.\u001b[39mexog, axis\u001b[39m=\u001b[39m\u001b[39m0\u001b[39m)\n",
      "\u001b[1;31mTypeError\u001b[0m: ufunc 'isfinite' not supported for the input types, and the inputs could not be safely coerced to any supported types according to the casting rule ''safe''"
     ]
    }
   ],
   "source": [
    "# Create a DataFrame with the predictor variables for which you want to calculate VIF\n",
    "predictors = train_combined.drop('Target', axis=1)\n",
    "\n",
    "# Calculate VIF for each predictor\n",
    "vif_data = pd.DataFrame()\n",
    "vif_data[\"Variable\"] = predictors.columns\n",
    "vif_data[\"VIF\"] = [variance_inflation_factor(predictors.values, i) for i in range(predictors.shape[1])]\n",
    "\n",
    "# Display the VIF DataFrame\n",
    "print(vif_data)"
   ]
  },
  {
   "cell_type": "code",
   "execution_count": 131,
   "metadata": {},
   "outputs": [],
   "source": [
    "vif_data_good = vif_data[vif_data['VIF']<11] "
   ]
  },
  {
   "cell_type": "code",
   "execution_count": 139,
   "metadata": {},
   "outputs": [],
   "source": [
    "columns_to_use = list(vif_data_good['Variable'])"
   ]
  },
  {
   "cell_type": "code",
   "execution_count": 36,
   "metadata": {},
   "outputs": [],
   "source": [
    "columns_to_use = ['data_volume',\n",
    " 'on_net',\n",
    " 'Procuct_1',\n",
    " 'Procuct_2',\n",
    " 'zone1',\n",
    " 'zone2',\n",
    " 'regularity',\n",
    " 'freq_top_pack',\n",
    " 'region_Celestial',\n",
    " 'region_Droidika',\n",
    " 'region_Eclipsara',\n",
    " 'region_Eternum',\n",
    " 'region_Forcehaven',\n",
    " 'region_Luminous',\n",
    " 'region_Nebula',\n",
    " 'region_Nebulith',\n",
    " 'region_Quasar',\n",
    " 'region_Radiantara',\n",
    " 'region_Stellaris',\n",
    " 'region_Zodiacalia',\n",
    " 'tenure_E 6-9 month',\n",
    " 'tenure_F 9-12 month',\n",
    " 'tenure_G 12-15 month',\n",
    " 'tenure_H 15-18 month',\n",
    " 'tenure_I 18-21 month',\n",
    " 'tenure_J 21-24 month',\n",
    " 'top_pack',\n",
    " 'Target']"
   ]
  },
  {
   "cell_type": "code",
   "execution_count": 24,
   "metadata": {},
   "outputs": [
    {
     "data": {
      "text/plain": [
       "Index(['Amount', 'refill_frequency', 'revenue', 'arpu_segment', 'frequency',\n",
       "       'data_volume', 'on_net', 'Procuct_1', 'Procuct_2', 'zone1', 'zone2',\n",
       "       'regularity', 'freq_top_pack', 'Target', 'region_Celestial',\n",
       "       'region_Droidika', 'region_Eclipsara', 'region_Eternum',\n",
       "       'region_Forcehaven', 'region_Luminous', 'region_Mandalore',\n",
       "       'region_Nebula', 'region_Nebulith', 'region_Quasar',\n",
       "       'region_Radiantara', 'region_Stellaris', 'region_Zodiacalia',\n",
       "       'tenure_E 6-9 month', 'tenure_F 9-12 month', 'tenure_G 12-15 month',\n",
       "       'tenure_H 15-18 month', 'tenure_I 18-21 month', 'tenure_J 21-24 month',\n",
       "       'tenure_K > 24 month', 'top_pack'],\n",
       "      dtype='object')"
      ]
     },
     "execution_count": 24,
     "metadata": {},
     "output_type": "execute_result"
    }
   ],
   "source": [
    "train_combined.columns"
   ]
  },
  {
   "cell_type": "code",
   "execution_count": 25,
   "metadata": {},
   "outputs": [],
   "source": [
    "## Using min-max scaler\n",
    "# train_combined = train_combined[columns_to_use]\n",
    "\n",
    "# Split the data into training and testing sets\n",
    "train_data_ml, test_data_ml = train_test_split(train_combined, test_size=0.3, random_state=42)\n",
    "\n",
    "# Separate features and target variable\n",
    "X_train_ml = train_data_ml.drop('Target', axis=1)\n",
    "y_train_ml = train_data_ml['Target']\n",
    "\n",
    "X_test_ml = test_data_ml.drop('Target', axis=1)\n",
    "y_test_ml = test_data_ml['Target']\n",
    "\n",
    "# Initialize MinMaxScaler\n",
    "scaler = MinMaxScaler()\n",
    "\n",
    "# Fit and transform the scaler on the training data\n",
    "X_train_ml_scaled = scaler.fit_transform(X_train_ml)\n",
    "\n",
    "# Transform the testing data using the same scaler\n",
    "X_test_ml_scaled = scaler.transform(X_test_ml)\n",
    "\n",
    "# Convert the scaled data back to DataFrames\n",
    "X_train_ml_scaled_df = pd.DataFrame(X_train_ml_scaled, columns=X_train_ml.columns)\n",
    "X_test_ml_scaled_df = pd.DataFrame(X_test_ml_scaled, columns=X_test_ml.columns)"
   ]
  },
  {
   "cell_type": "code",
   "execution_count": 26,
   "metadata": {},
   "outputs": [
    {
     "data": {
      "text/html": [
       "<div>\n",
       "<style scoped>\n",
       "    .dataframe tbody tr th:only-of-type {\n",
       "        vertical-align: middle;\n",
       "    }\n",
       "\n",
       "    .dataframe tbody tr th {\n",
       "        vertical-align: top;\n",
       "    }\n",
       "\n",
       "    .dataframe thead th {\n",
       "        text-align: right;\n",
       "    }\n",
       "</style>\n",
       "<table border=\"1\" class=\"dataframe\">\n",
       "  <thead>\n",
       "    <tr style=\"text-align: right;\">\n",
       "      <th></th>\n",
       "      <th>Amount</th>\n",
       "      <th>refill_frequency</th>\n",
       "      <th>revenue</th>\n",
       "      <th>arpu_segment</th>\n",
       "      <th>frequency</th>\n",
       "      <th>data_volume</th>\n",
       "      <th>on_net</th>\n",
       "      <th>Procuct_1</th>\n",
       "      <th>Procuct_2</th>\n",
       "      <th>zone1</th>\n",
       "      <th>...</th>\n",
       "      <th>region_Stellaris</th>\n",
       "      <th>region_Zodiacalia</th>\n",
       "      <th>tenure_E 6-9 month</th>\n",
       "      <th>tenure_F 9-12 month</th>\n",
       "      <th>tenure_G 12-15 month</th>\n",
       "      <th>tenure_H 15-18 month</th>\n",
       "      <th>tenure_I 18-21 month</th>\n",
       "      <th>tenure_J 21-24 month</th>\n",
       "      <th>tenure_K &gt; 24 month</th>\n",
       "      <th>top_pack</th>\n",
       "    </tr>\n",
       "  </thead>\n",
       "  <tbody>\n",
       "    <tr>\n",
       "      <th>1092040</th>\n",
       "      <td>598.290000</td>\n",
       "      <td>4.000000</td>\n",
       "      <td>595.730000</td>\n",
       "      <td>198.72000</td>\n",
       "      <td>5.00000</td>\n",
       "      <td>0.000000</td>\n",
       "      <td>365.000000</td>\n",
       "      <td>14.000000</td>\n",
       "      <td>22.082582</td>\n",
       "      <td>8.358566</td>\n",
       "      <td>...</td>\n",
       "      <td>0</td>\n",
       "      <td>0</td>\n",
       "      <td>0</td>\n",
       "      <td>0</td>\n",
       "      <td>0</td>\n",
       "      <td>0</td>\n",
       "      <td>0</td>\n",
       "      <td>0</td>\n",
       "      <td>1</td>\n",
       "      <td>0.076380</td>\n",
       "    </tr>\n",
       "    <tr>\n",
       "      <th>137360</th>\n",
       "      <td>42.740000</td>\n",
       "      <td>1.000000</td>\n",
       "      <td>2136.907517</td>\n",
       "      <td>712.30559</td>\n",
       "      <td>12.66033</td>\n",
       "      <td>2987.617104</td>\n",
       "      <td>245.586557</td>\n",
       "      <td>88.695962</td>\n",
       "      <td>22.082582</td>\n",
       "      <td>8.358566</td>\n",
       "      <td>...</td>\n",
       "      <td>0</td>\n",
       "      <td>0</td>\n",
       "      <td>0</td>\n",
       "      <td>0</td>\n",
       "      <td>0</td>\n",
       "      <td>0</td>\n",
       "      <td>0</td>\n",
       "      <td>0</td>\n",
       "      <td>1</td>\n",
       "      <td>0.648016</td>\n",
       "    </tr>\n",
       "    <tr>\n",
       "      <th>1489386</th>\n",
       "      <td>2168.387224</td>\n",
       "      <td>10.495313</td>\n",
       "      <td>2136.907517</td>\n",
       "      <td>712.30559</td>\n",
       "      <td>12.66033</td>\n",
       "      <td>2987.617104</td>\n",
       "      <td>245.586557</td>\n",
       "      <td>88.695962</td>\n",
       "      <td>22.082582</td>\n",
       "      <td>8.358566</td>\n",
       "      <td>...</td>\n",
       "      <td>0</td>\n",
       "      <td>0</td>\n",
       "      <td>0</td>\n",
       "      <td>0</td>\n",
       "      <td>0</td>\n",
       "      <td>0</td>\n",
       "      <td>0</td>\n",
       "      <td>0</td>\n",
       "      <td>1</td>\n",
       "      <td>0.648016</td>\n",
       "    </tr>\n",
       "    <tr>\n",
       "      <th>718223</th>\n",
       "      <td>1153.850000</td>\n",
       "      <td>12.000000</td>\n",
       "      <td>1072.650000</td>\n",
       "      <td>357.69000</td>\n",
       "      <td>14.00000</td>\n",
       "      <td>0.000000</td>\n",
       "      <td>104.000000</td>\n",
       "      <td>14.000000</td>\n",
       "      <td>7.000000</td>\n",
       "      <td>0.000000</td>\n",
       "      <td>...</td>\n",
       "      <td>0</td>\n",
       "      <td>0</td>\n",
       "      <td>0</td>\n",
       "      <td>0</td>\n",
       "      <td>0</td>\n",
       "      <td>0</td>\n",
       "      <td>0</td>\n",
       "      <td>0</td>\n",
       "      <td>1</td>\n",
       "      <td>0.076380</td>\n",
       "    </tr>\n",
       "    <tr>\n",
       "      <th>1615606</th>\n",
       "      <td>2168.387224</td>\n",
       "      <td>10.495313</td>\n",
       "      <td>2136.907517</td>\n",
       "      <td>712.30559</td>\n",
       "      <td>12.66033</td>\n",
       "      <td>1024.000000</td>\n",
       "      <td>1.000000</td>\n",
       "      <td>88.695962</td>\n",
       "      <td>22.082582</td>\n",
       "      <td>8.358566</td>\n",
       "      <td>...</td>\n",
       "      <td>0</td>\n",
       "      <td>0</td>\n",
       "      <td>0</td>\n",
       "      <td>0</td>\n",
       "      <td>0</td>\n",
       "      <td>0</td>\n",
       "      <td>0</td>\n",
       "      <td>0</td>\n",
       "      <td>1</td>\n",
       "      <td>0.648016</td>\n",
       "    </tr>\n",
       "  </tbody>\n",
       "</table>\n",
       "<p>5 rows × 34 columns</p>\n",
       "</div>"
      ],
      "text/plain": [
       "              Amount  refill_frequency      revenue  arpu_segment  frequency  \\\n",
       "1092040   598.290000          4.000000   595.730000     198.72000    5.00000   \n",
       "137360     42.740000          1.000000  2136.907517     712.30559   12.66033   \n",
       "1489386  2168.387224         10.495313  2136.907517     712.30559   12.66033   \n",
       "718223   1153.850000         12.000000  1072.650000     357.69000   14.00000   \n",
       "1615606  2168.387224         10.495313  2136.907517     712.30559   12.66033   \n",
       "\n",
       "         data_volume      on_net  Procuct_1  Procuct_2     zone1  ...  \\\n",
       "1092040     0.000000  365.000000  14.000000  22.082582  8.358566  ...   \n",
       "137360   2987.617104  245.586557  88.695962  22.082582  8.358566  ...   \n",
       "1489386  2987.617104  245.586557  88.695962  22.082582  8.358566  ...   \n",
       "718223      0.000000  104.000000  14.000000   7.000000  0.000000  ...   \n",
       "1615606  1024.000000    1.000000  88.695962  22.082582  8.358566  ...   \n",
       "\n",
       "         region_Stellaris  region_Zodiacalia  tenure_E 6-9 month  \\\n",
       "1092040                 0                  0                   0   \n",
       "137360                  0                  0                   0   \n",
       "1489386                 0                  0                   0   \n",
       "718223                  0                  0                   0   \n",
       "1615606                 0                  0                   0   \n",
       "\n",
       "         tenure_F 9-12 month  tenure_G 12-15 month  tenure_H 15-18 month  \\\n",
       "1092040                    0                     0                     0   \n",
       "137360                     0                     0                     0   \n",
       "1489386                    0                     0                     0   \n",
       "718223                     0                     0                     0   \n",
       "1615606                    0                     0                     0   \n",
       "\n",
       "         tenure_I 18-21 month  tenure_J 21-24 month  tenure_K > 24 month  \\\n",
       "1092040                     0                     0                    1   \n",
       "137360                      0                     0                    1   \n",
       "1489386                     0                     0                    1   \n",
       "718223                      0                     0                    1   \n",
       "1615606                     0                     0                    1   \n",
       "\n",
       "         top_pack  \n",
       "1092040  0.076380  \n",
       "137360   0.648016  \n",
       "1489386  0.648016  \n",
       "718223   0.076380  \n",
       "1615606  0.648016  \n",
       "\n",
       "[5 rows x 34 columns]"
      ]
     },
     "execution_count": 26,
     "metadata": {},
     "output_type": "execute_result"
    }
   ],
   "source": [
    "X_train_ml.head()"
   ]
  },
  {
   "cell_type": "markdown",
   "metadata": {},
   "source": [
    "## Logistic Regression"
   ]
  },
  {
   "cell_type": "code",
   "execution_count": 41,
   "metadata": {},
   "outputs": [
    {
     "name": "stdout",
     "output_type": "stream",
     "text": [
      "Best Hyperparameters: OrderedDict([('C', 24.63089435132342), ('fit_intercept', True), ('penalty', 'l1'), ('solver', 'liblinear'), ('tol', 0.0001140805710816592)])\n"
     ]
    }
   ],
   "source": [
    "# Define the parameter search space\n",
    "param_space = {\n",
    "    'solver': ['liblinear', 'saga'],  \n",
    "    'penalty': ['l1','l2'],\n",
    "    'tol': (1e-6, 1e+6, 'log-uniform'),\n",
    "    'C': (1e-5, 100),\n",
    "    'fit_intercept': [True, False]\n",
    "} \n",
    "\n",
    "# Create a logistic regression model\n",
    "logreg = LogisticRegression(random_state=1234, verbose=0)\n",
    "\n",
    "# Perform Bayesian optimization for hyperparameter tuning\n",
    "optimal_params = BayesSearchCV(logreg, param_space, n_iter=50, cv=5, n_jobs=-1, random_state=1234)\n",
    "\n",
    "# Fit the model with the optimal hyperparameters\n",
    "optimal_params.fit(X_train_ml, y_train_ml)\n",
    "\n",
    "# Display the best hyperparameters\n",
    "print(\"Best Hyperparameters:\", optimal_params.best_params_)"
   ]
  },
  {
   "cell_type": "code",
   "execution_count": null,
   "metadata": {},
   "outputs": [],
   "source": [
    "# Initialize Logistic Regression model\n",
    "logreg_model = LogisticRegression(C=24.63089435132342,fit_intercept=True,\n",
    "                                    penalty = 'l1',\n",
    "                                    solver='liblinear',\n",
    "                                    tol=0.0001140805710816592, max_iter=1000)\n",
    "\n",
    "# Fit the model on the scaled training data\n",
    "logreg_model.fit(X_train_ml_scaled_df, y_train_ml)\n",
    "\n",
    "# Predict on the scaled testing data\n",
    "y_pred = logreg_model.predict(X_test_ml_scaled_df)\n",
    "\n",
    "# Evaluate the model\n"
   ]
  },
  {
   "cell_type": "markdown",
   "metadata": {},
   "source": [
    "## LightGBM"
   ]
  },
  {
   "cell_type": "code",
   "execution_count": 94,
   "metadata": {},
   "outputs": [],
   "source": [
    "train_data = lgb.Dataset(X_train_ml_scaled_df, label=y_train_ml)\n",
    "test_data = lgb.Dataset(X_test_ml_scaled_df, label=y_test_ml, reference=train_data)"
   ]
  },
  {
   "cell_type": "code",
   "execution_count": 107,
   "metadata": {},
   "outputs": [
    {
     "name": "stdout",
     "output_type": "stream",
     "text": [
      "[LightGBM] [Info] Number of positive: 686083, number of negative: 685945\n",
      "[LightGBM] [Info] Auto-choosing row-wise multi-threading, the overhead of testing was 0.141555 seconds.\n",
      "You can set `force_row_wise=true` to remove the overhead.\n",
      "And if memory is not enough, you can set `force_col_wise=true`.\n",
      "[LightGBM] [Info] Total Bins 2563\n",
      "[LightGBM] [Info] Number of data points in the train set: 1372028, number of used features: 34\n",
      "[LightGBM] [Info] [binary:BoostFromScore]: pavg=0.500050 -> initscore=0.000201\n",
      "[LightGBM] [Info] Start training from score 0.000201\n"
     ]
    }
   ],
   "source": [
    "params = {\n",
    "    'objective': 'binary',\n",
    "    'metric': 'binary_logloss',\n",
    "    'boosting_type': 'gbdt',\n",
    "    'num_leaves': 10,\n",
    "    'learning_rate': 0.05,\n",
    "    'feature_fraction': 0.9\n",
    "}\n",
    "\n",
    "\n",
    "\n",
    "num_round = 100  # Number of boosting rounds\n",
    "bst = lgb.train(params, train_data, num_round, valid_sets=[test_data])"
   ]
  },
  {
   "cell_type": "code",
   "execution_count": 108,
   "metadata": {},
   "outputs": [],
   "source": [
    "y_pred_prob = bst.predict(X_test_ml, num_iteration=bst.best_iteration)\n",
    "y_pred = [np.argmax(pred) for pred in y_pred_prob]  # Convert probabilities to class labels"
   ]
  },
  {
   "cell_type": "markdown",
   "metadata": {},
   "source": [
    "## SVC"
   ]
  },
  {
   "cell_type": "code",
   "execution_count": 114,
   "metadata": {},
   "outputs": [],
   "source": [
    "# Create an SVC model\n",
    "svc_model = SVC(kernel='linear', C=1.0)\n",
    "\n",
    "# Train the model\n",
    "svc_model.fit(X_train_ml_scaled_df, y_train_ml)\n",
    "\n",
    "# Make predictions on the test set\n",
    "y_pred = svc_model.predict(X_test_ml)"
   ]
  },
  {
   "cell_type": "code",
   "execution_count": 49,
   "metadata": {},
   "outputs": [],
   "source": []
  },
  {
   "cell_type": "code",
   "execution_count": 111,
   "metadata": {},
   "outputs": [
    {
     "name": "stdout",
     "output_type": "stream",
     "text": [
      "Confusion Matrix:\n",
      "[[294075      0]\n",
      " [293937      0]]\n"
     ]
    }
   ],
   "source": [
    "# Confusion matrix\n",
    "\n",
    "cm = confusion_matrix(y_test_ml, y_pred)\n",
    "print(\"Confusion Matrix:\")\n",
    "print(cm)"
   ]
  },
  {
   "cell_type": "code",
   "execution_count": 106,
   "metadata": {},
   "outputs": [
    {
     "data": {
      "text/plain": [
       "<sklearn.metrics._plot.confusion_matrix.ConfusionMatrixDisplay at 0x17fb71d65f0>"
      ]
     },
     "execution_count": 106,
     "metadata": {},
     "output_type": "execute_result"
    },
    {
     "data": {
      "image/png": "[encoded data removed]",
      "text/plain": [
       "<Figure size 640x480 with 2 Axes>"
      ]
     },
     "metadata": {},
     "output_type": "display_data"
    }
   ],
   "source": [
    "\n",
    "\n",
    "ConfusionMatrixDisplay.from_predictions(y_test_ml, y_pred)"
   ]
  },
  {
   "cell_type": "code",
   "execution_count": 100,
   "metadata": {},
   "outputs": [
    {
     "data": {
      "text/plain": [
       "0.7795481095927873"
      ]
     },
     "execution_count": 100,
     "metadata": {},
     "output_type": "execute_result"
    }
   ],
   "source": [
    "prec = 262247 / (262247 + 74162)\n",
    "prec"
   ]
  },
  {
   "cell_type": "code",
   "execution_count": 101,
   "metadata": {},
   "outputs": [
    {
     "name": "stderr",
     "output_type": "stream",
     "text": [
      "c:\\Users\\UKASHI\\anaconda3\\envs\\e-library\\lib\\site-packages\\sklearn\\metrics\\_classification.py:1471: UndefinedMetricWarning: Precision is ill-defined and being set to 0.0 due to no predicted samples. Use `zero_division` parameter to control this behavior.\n",
      "  _warn_prf(average, modifier, msg_start, len(result))\n"
     ]
    },
    {
     "name": "stdout",
     "output_type": "stream",
     "text": [
      "Accuracy: 0.5001173445439889\n",
      "Precision: 0.0\n",
      "Recall: 0.0\n",
      "F1 Score: 0.0\n"
     ]
    }
   ],
   "source": [
    "accuracy = accuracy_score(y_test_ml, y_pred)\n",
    "precision = precision_score(y_test_ml, y_pred)\n",
    "recall = recall_score(y_test_ml, y_pred)\n",
    "f1 = f1_score(y_test_ml, y_pred)\n",
    "\n",
    "print(\"Accuracy:\", accuracy)\n",
    "print(\"Precision:\", precision)\n",
    "print(\"Recall:\", recall)\n",
    "print(\"F1 Score:\", f1)"
   ]
  },
  {
   "cell_type": "code",
   "execution_count": 54,
   "metadata": {},
   "outputs": [
    {
     "name": "stdout",
     "output_type": "stream",
     "text": [
      "Classification Report:\n",
      "              precision    recall  f1-score   support\n",
      "\n",
      "           0       0.88      0.78      0.83    294075\n",
      "           1       0.80      0.89      0.84    293937\n",
      "\n",
      "    accuracy                           0.84    588012\n",
      "   macro avg       0.84      0.84      0.83    588012\n",
      "weighted avg       0.84      0.84      0.83    588012\n",
      "\n"
     ]
    }
   ],
   "source": [
    "classification_report_str = classification_report(y_test_ml, y_pred)\n",
    "print(\"Classification Report:\")\n",
    "print(classification_report_str)\n"
   ]
  },
  {
   "cell_type": "code",
   "execution_count": 55,
   "metadata": {},
   "outputs": [
    {
     "data": {
      "image/png": "[encoded data removed]",
      "text/plain": [
       "<Figure size 800x800 with 1 Axes>"
      ]
     },
     "metadata": {},
     "output_type": "display_data"
    }
   ],
   "source": [
    "# ROC Curve\n",
    "fpr, tpr, thresholds = roc_curve(y_test_ml, logreg_model.predict_proba(X_test_ml_scaled_df)[:, 1])\n",
    "auc = roc_auc_score(y_test_ml, y_pred)\n",
    "\n",
    "# Plot ROC Curve\n",
    "plt.figure(figsize=(8, 8))\n",
    "plt.plot(fpr, tpr, label=f'AUC = {auc:.2f}')\n",
    "plt.plot([0, 1], [0, 1], 'k--')\n",
    "plt.xlabel('False Positive Rate')\n",
    "plt.ylabel('True Positive Rate')\n",
    "plt.title('ROC Curve')\n",
    "plt.legend()\n",
    "plt.show()"
   ]
  },
  {
   "cell_type": "code",
   "execution_count": 56,
   "metadata": {},
   "outputs": [
    {
     "name": "stdout",
     "output_type": "stream",
     "text": [
      "Feature Importance:\n",
      "                 Feature  Coefficient\n",
      "0            data_volume    14.772772\n",
      "7          freq_top_pack    13.037005\n",
      "1                 on_net    12.807125\n",
      "5                  zone2     8.536454\n",
      "2              Procuct_1     4.633035\n",
      "4                  zone1     3.410647\n",
      "26              top_pack     0.670050\n",
      "3              Procuct_2     0.609415\n",
      "22  tenure_G 12-15 month     0.504918\n",
      "23  tenure_H 15-18 month     0.392571\n",
      "21   tenure_F 9-12 month     0.367888\n",
      "24  tenure_I 18-21 month     0.350454\n",
      "20    tenure_E 6-9 month     0.284758\n",
      "25  tenure_J 21-24 month     0.065452\n",
      "12     region_Forcehaven    -1.808534\n",
      "11        region_Eternum    -1.901128\n",
      "18      region_Stellaris    -2.057352\n",
      "17     region_Radiantara    -2.162699\n",
      "13       region_Luminous    -2.256516\n",
      "14         region_Nebula    -2.326427\n",
      "8       region_Celestial    -2.328524\n",
      "16         region_Quasar    -2.386266\n",
      "9        region_Droidika    -2.392802\n",
      "10      region_Eclipsara    -2.544916\n",
      "15       region_Nebulith    -2.668895\n",
      "19     region_Zodiacalia    -3.057607\n",
      "6             regularity    -5.787437\n"
     ]
    }
   ],
   "source": [
    "feature_importance = pd.DataFrame({'Feature': X_test_ml_scaled_df.columns, 'Coefficient': logreg_model.coef_[0]})\n",
    "feature_importance = feature_importance.sort_values(by='Coefficient', ascending=False)\n",
    "print(\"Feature Importance:\")\n",
    "print(feature_importance)\n"
   ]
  },
  {
   "cell_type": "code",
   "execution_count": 57,
   "metadata": {},
   "outputs": [
    {
     "data": {
      "image/png": "[encoded data removed]",
      "text/plain": [
       "<Figure size 800x800 with 1 Axes>"
      ]
     },
     "metadata": {},
     "output_type": "display_data"
    }
   ],
   "source": [
    "# Calibration Curve\n",
    "prob_true, prob_pred = calibration_curve(y_test_ml, logreg_model.predict_proba(X_test_ml_scaled_df)[:, 1], n_bins=10)\n",
    "\n",
    "# Plot Calibration Curve\n",
    "plt.figure(figsize=(8, 8))\n",
    "plt.plot(prob_pred, prob_true, marker='o', linestyle='-', label='Calibration Curve')\n",
    "plt.plot([0, 1], [0, 1], 'k--')\n",
    "plt.xlabel('Mean Predicted Probability')\n",
    "plt.ylabel('Fraction of Positives')\n",
    "plt.title('Probability Calibration Curve')\n",
    "plt.legend()\n",
    "plt.show()"
   ]
  },
  {
   "cell_type": "markdown",
   "metadata": {},
   "source": [
    "## Make another submission"
   ]
  },
  {
   "cell_type": "code",
   "execution_count": 121,
   "metadata": {},
   "outputs": [
    {
     "data": {
      "text/plain": [
       "ID                  0\n",
       "region              0\n",
       "tenure              0\n",
       "Amount              0\n",
       "refill_frequency    0\n",
       "revenue             0\n",
       "arpu_segment        0\n",
       "frequency           0\n",
       "data_volume         0\n",
       "on_net              0\n",
       "Procuct_1           0\n",
       "Procuct_2           0\n",
       "zone1               0\n",
       "zone2               0\n",
       "mrg                 0\n",
       "regularity          0\n",
       "top_pack            0\n",
       "freq_top_pack       0\n",
       "dtype: int64"
      ]
     },
     "execution_count": 121,
     "metadata": {},
     "output_type": "execute_result"
    }
   ],
   "source": [
    "test_data.isnull().sum()"
   ]
  },
  {
   "cell_type": "code",
   "execution_count": 109,
   "metadata": {},
   "outputs": [
    {
     "data": {
      "text/plain": [
       "['Amount',\n",
       " 'refill_frequency',\n",
       " 'revenue',\n",
       " 'arpu_segment',\n",
       " 'frequency',\n",
       " 'data_volume',\n",
       " 'on_net',\n",
       " 'Procuct_1',\n",
       " 'Procuct_2',\n",
       " 'zone1',\n",
       " 'zone2',\n",
       " 'regularity',\n",
       " 'freq_top_pack',\n",
       " 'Target']"
      ]
     },
     "execution_count": 109,
     "metadata": {},
     "output_type": "execute_result"
    }
   ],
   "source": [
    "non_categorical_columns"
   ]
  },
  {
   "cell_type": "code",
   "execution_count": 60,
   "metadata": {},
   "outputs": [
    {
     "data": {
      "text/plain": [
       "['data_volume',\n",
       " 'on_net',\n",
       " 'Procuct_1',\n",
       " 'Procuct_2',\n",
       " 'zone1',\n",
       " 'zone2',\n",
       " 'regularity',\n",
       " 'freq_top_pack',\n",
       " 'region_Celestial',\n",
       " 'region_Droidika',\n",
       " 'region_Eclipsara',\n",
       " 'region_Eternum',\n",
       " 'region_Forcehaven',\n",
       " 'region_Luminous',\n",
       " 'region_Nebula',\n",
       " 'region_Nebulith',\n",
       " 'region_Quasar',\n",
       " 'region_Radiantara',\n",
       " 'region_Stellaris',\n",
       " 'region_Zodiacalia',\n",
       " 'tenure_E 6-9 month',\n",
       " 'tenure_F 9-12 month',\n",
       " 'tenure_G 12-15 month',\n",
       " 'tenure_H 15-18 month',\n",
       " 'tenure_I 18-21 month',\n",
       " 'tenure_J 21-24 month',\n",
       " 'top_pack',\n",
       " 'Target']"
      ]
     },
     "execution_count": 60,
     "metadata": {},
     "output_type": "execute_result"
    }
   ],
   "source": [
    "columns_to_use"
   ]
  },
  {
   "cell_type": "code",
   "execution_count": 61,
   "metadata": {},
   "outputs": [],
   "source": [
    "\n",
    "## Using min-max scaler\n",
    "test_combined = test_combined[columns_to_use[:-1]]\n",
    "\n",
    "\n",
    "# Transform the testing data using the same scaler\n",
    "X_test_scaled = scaler.transform(test_combined)\n",
    "\n",
    "# Convert the scaled data back to DataFrames\n",
    "X_test_scaled_df = pd.DataFrame(X_test_scaled, columns=test_combined.columns)"
   ]
  },
  {
   "cell_type": "code",
   "execution_count": 62,
   "metadata": {},
   "outputs": [],
   "source": [
    "# Predict on the scaled testing data\n",
    "y_submission = logreg_model.predict(X_test_scaled_df)"
   ]
  },
  {
   "cell_type": "code",
   "execution_count": 63,
   "metadata": {},
   "outputs": [],
   "source": [
    "submission_data = pd.read_csv('SampleSubmission.csv')\n",
    "submission_data['Target'] = y_submission\n",
    "\n",
    "submission_data.to_csv('optimized_logreg_model.csv', index=False)"
   ]
  }
 ],
 "metadata": {
  "kernelspec": {
   "display_name": "e-library",
   "language": "python",
   "name": "python3"
  },
  "language_info": {
   "codemirror_mode": {
    "name": "ipython",
    "version": 3
   },
   "file_extension": ".py",
   "mimetype": "text/x-python",
   "name": "python",
   "nbconvert_exporter": "python",
   "pygments_lexer": "ipython3",
   "version": "3.10.8"
  },
  "orig_nbformat": 4
 },
 "nbformat": 4,
 "nbformat_minor": 2
}
